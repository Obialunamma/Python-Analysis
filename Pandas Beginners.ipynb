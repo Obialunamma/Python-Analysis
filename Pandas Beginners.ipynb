{
 "cells": [
  {
   "cell_type": "code",
   "execution_count": 1,
   "id": "7607c4e1-d6b3-4e74-8ca5-c501db04b6c8",
   "metadata": {
    "editable": true,
    "slideshow": {
     "slide_type": ""
    },
    "tags": []
   },
   "outputs": [],
   "source": [
    "import pandas as pd"
   ]
  },
  {
   "cell_type": "code",
   "execution_count": 4,
   "id": "3d0e9c49-f1a4-45ae-8645-9fbebb3dd5c4",
   "metadata": {},
   "outputs": [
    {
     "data": {
      "text/plain": [
       "1"
      ]
     },
     "execution_count": 4,
     "metadata": {},
     "output_type": "execute_result"
    }
   ],
   "source": [
    "9%2"
   ]
  },
  {
   "cell_type": "code",
   "execution_count": 6,
   "id": "09f69e24-76b5-4827-bf0a-443bdd548885",
   "metadata": {},
   "outputs": [
    {
     "name": "stdout",
     "output_type": "stream",
     "text": [
      "[0, 1, 0, 1, 0, 1, 0, 1, 0, 1]\n",
      "10\n"
     ]
    }
   ],
   "source": [
    "## To create a list in Python containing a sequence of 0s and 1s using list comprehensions.\n",
    "\n",
    "# Define the length of the list\n",
    "length = 10  # Change this value to adjust the length of the list\n",
    "\n",
    "# Create the list using list comprehension\n",
    "binary_list = [0 if i % 2 == 0 else 1 for i in range(length)]\n",
    "\n",
    "# Print the list\n",
    "print(binary_list)\n",
    "count = len(binary_list)\n",
    "print(count)"
   ]
  },
  {
   "cell_type": "code",
   "execution_count": 7,
   "id": "5d28bc4f-753e-4d8b-b9e0-ac8487dd7ab7",
   "metadata": {},
   "outputs": [
    {
     "data": {
      "text/plain": [
       "1"
      ]
     },
     "execution_count": 7,
     "metadata": {},
     "output_type": "execute_result"
    }
   ],
   "source": [
    "binary_list[1]"
   ]
  },
  {
   "cell_type": "code",
   "execution_count": 3,
   "id": "5b765151-659a-441c-9e82-65179d79608c",
   "metadata": {},
   "outputs": [
    {
     "name": "stdout",
     "output_type": "stream",
     "text": [
      "{'x': [0, 1, 0, 1, 0]}\n"
     ]
    }
   ],
   "source": [
    "x = {\n",
    "    'x':[0,1,0,1,0]\n",
    "}\n",
    "print(x)"
   ]
  },
  {
   "cell_type": "code",
   "execution_count": 4,
   "id": "a0a26c35-0701-4509-8aa7-5adc269a97da",
   "metadata": {},
   "outputs": [
    {
     "name": "stdout",
     "output_type": "stream",
     "text": [
      "[0, 1, 0, 1, 0, 1, 0, 1, 0, 1, 0, 1, 0, 1, 0]\n",
      "15\n"
     ]
    }
   ],
   "source": [
    "length = 15  # Change this value to adjust the length of the list\n",
    "\n",
    "# Create the list using list comprehension\n",
    "binary_list = [0 if i % 2 == 0 else 1 for i in range(length)]\n",
    "\n",
    "# Print the list\n",
    "print(binary_list)\n",
    "count = len(binary_list)\n",
    "print(count)"
   ]
  },
  {
   "cell_type": "code",
   "execution_count": 5,
   "id": "64efeed7-b13d-49eb-b365-3e0b11fca610",
   "metadata": {},
   "outputs": [],
   "source": [
    "# creating a dataframe in pandas\n",
    "# first create a dictionary\n",
    "people = {                               # here the first, last and email are called keys while others are called values\n",
    "    \"first\" : [\"Corey\", 'Jane', 'John'],\n",
    "     \"last\" : [\"Schafer\", 'Doe', 'Doe'],\n",
    "     \"email\" : [\"CoreySchafer@gmail.com\", 'JaneDoe@gmail.com', 'JohnDoe@gmail.com']\n",
    "}\n",
    "\n",
    "# convert the dictionary to a dataframe \n",
    "\n",
    "dfp = pd.DataFrame(people)"
   ]
  },
  {
   "cell_type": "code",
   "execution_count": 6,
   "id": "d25239b4-7e8a-4228-8c37-0d8439c253b6",
   "metadata": {},
   "outputs": [
    {
     "data": {
      "text/plain": [
       "{'first': ['Corey', 'Jane', 'John'],\n",
       " 'last': ['Schafer', 'Doe', 'Doe'],\n",
       " 'email': ['CoreySchafer@gmail.com', 'JaneDoe@gmail.com', 'JohnDoe@gmail.com']}"
      ]
     },
     "execution_count": 6,
     "metadata": {},
     "output_type": "execute_result"
    }
   ],
   "source": [
    "# to view the dictionary\n",
    "people"
   ]
  },
  {
   "cell_type": "code",
   "execution_count": 7,
   "id": "f79e439f-4a97-406a-be0a-61931322ead0",
   "metadata": {},
   "outputs": [
    {
     "data": {
      "text/plain": [
       "['CoreySchafer@gmail.com', 'JaneDoe@gmail.com', 'JohnDoe@gmail.com']"
      ]
     },
     "execution_count": 7,
     "metadata": {},
     "output_type": "execute_result"
    }
   ],
   "source": [
    "people['email']"
   ]
  },
  {
   "cell_type": "code",
   "execution_count": 8,
   "id": "59c4a3aa-0daa-46fc-b84b-bdfce4660b3a",
   "metadata": {},
   "outputs": [
    {
     "data": {
      "text/plain": [
       "0    CoreySchafer@gmail.com\n",
       "1         JaneDoe@gmail.com\n",
       "2         JohnDoe@gmail.com\n",
       "Name: email, dtype: object"
      ]
     },
     "execution_count": 8,
     "metadata": {},
     "output_type": "execute_result"
    }
   ],
   "source": [
    "dfp['email'] # this is more preferable in cases where your column name is same as a keyword in dataframe\n",
    "# or \n",
    "dfp.email  # still gives same "
   ]
  },
  {
   "cell_type": "code",
   "execution_count": 9,
   "id": "bdb016b5-9602-4e25-a8e8-3bf1b4c00098",
   "metadata": {},
   "outputs": [
    {
     "data": {
      "text/plain": [
       "list"
      ]
     },
     "execution_count": 9,
     "metadata": {},
     "output_type": "execute_result"
    }
   ],
   "source": [
    "type(people['email'])"
   ]
  },
  {
   "cell_type": "code",
   "execution_count": 10,
   "id": "17fe8eeb-c683-44bb-bb67-81991472649f",
   "metadata": {},
   "outputs": [
    {
     "data": {
      "text/plain": [
       "pandas.core.series.Series"
      ]
     },
     "execution_count": 10,
     "metadata": {},
     "output_type": "execute_result"
    }
   ],
   "source": [
    "type(dfp['email'])\n",
    "\n",
    "# you can think of a series as rows of a single column"
   ]
  },
  {
   "cell_type": "code",
   "execution_count": 11,
   "id": "41bef709-12bb-4764-9557-c8b5e95c4bce",
   "metadata": {},
   "outputs": [
    {
     "data": {
      "text/html": [
       "<div>\n",
       "<style scoped>\n",
       "    .dataframe tbody tr th:only-of-type {\n",
       "        vertical-align: middle;\n",
       "    }\n",
       "\n",
       "    .dataframe tbody tr th {\n",
       "        vertical-align: top;\n",
       "    }\n",
       "\n",
       "    .dataframe thead th {\n",
       "        text-align: right;\n",
       "    }\n",
       "</style>\n",
       "<table border=\"1\" class=\"dataframe\">\n",
       "  <thead>\n",
       "    <tr style=\"text-align: right;\">\n",
       "      <th></th>\n",
       "      <th>last</th>\n",
       "      <th>email</th>\n",
       "    </tr>\n",
       "  </thead>\n",
       "  <tbody>\n",
       "    <tr>\n",
       "      <th>0</th>\n",
       "      <td>Schafer</td>\n",
       "      <td>CoreySchafer@gmail.com</td>\n",
       "    </tr>\n",
       "    <tr>\n",
       "      <th>1</th>\n",
       "      <td>Doe</td>\n",
       "      <td>JaneDoe@gmail.com</td>\n",
       "    </tr>\n",
       "    <tr>\n",
       "      <th>2</th>\n",
       "      <td>Doe</td>\n",
       "      <td>JohnDoe@gmail.com</td>\n",
       "    </tr>\n",
       "  </tbody>\n",
       "</table>\n",
       "</div>"
      ],
      "text/plain": [
       "      last                   email\n",
       "0  Schafer  CoreySchafer@gmail.com\n",
       "1      Doe       JaneDoe@gmail.com\n",
       "2      Doe       JohnDoe@gmail.com"
      ]
     },
     "execution_count": 11,
     "metadata": {},
     "output_type": "execute_result"
    }
   ],
   "source": [
    "dfp[['last', 'email']]"
   ]
  },
  {
   "cell_type": "code",
   "execution_count": 12,
   "id": "abbf2b4f-3ccf-43f2-95f2-3ed097f3b885",
   "metadata": {},
   "outputs": [
    {
     "data": {
      "text/plain": [
       "Index(['first', 'last', 'email'], dtype='object')"
      ]
     },
     "execution_count": 12,
     "metadata": {},
     "output_type": "execute_result"
    }
   ],
   "source": [
    "dfp.columns # to view all the column names"
   ]
  },
  {
   "cell_type": "code",
   "execution_count": 13,
   "id": "ed12c0f0-231a-440b-b8f1-92fc27226a8a",
   "metadata": {},
   "outputs": [
    {
     "data": {
      "text/plain": [
       "first                     Corey\n",
       "last                    Schafer\n",
       "email    CoreySchafer@gmail.com\n",
       "Name: 0, dtype: object"
      ]
     },
     "execution_count": 13,
     "metadata": {},
     "output_type": "execute_result"
    }
   ],
   "source": [
    "# iloc - to access rows and columns by integer location hence the name iloc - integer location.\n",
    "dfp.iloc[0] # to acces the first row using the index which is 0"
   ]
  },
  {
   "cell_type": "code",
   "execution_count": 14,
   "id": "b618780b-fe28-42f6-97f2-9c4a401b1279",
   "metadata": {},
   "outputs": [
    {
     "data": {
      "text/plain": [
       "1    Doe\n",
       "2    Doe\n",
       "Name: last, dtype: object"
      ]
     },
     "execution_count": 14,
     "metadata": {},
     "output_type": "execute_result"
    }
   ],
   "source": [
    "# to access rows and columns - you state the rows index first then specift the column index\n",
    "dfp.iloc[[1,2], 1]"
   ]
  },
  {
   "cell_type": "code",
   "execution_count": 15,
   "id": "5e668ef0-c1ac-46b3-b0d1-bff08dd37590",
   "metadata": {},
   "outputs": [
    {
     "data": {
      "text/html": [
       "<div>\n",
       "<style scoped>\n",
       "    .dataframe tbody tr th:only-of-type {\n",
       "        vertical-align: middle;\n",
       "    }\n",
       "\n",
       "    .dataframe tbody tr th {\n",
       "        vertical-align: top;\n",
       "    }\n",
       "\n",
       "    .dataframe thead th {\n",
       "        text-align: right;\n",
       "    }\n",
       "</style>\n",
       "<table border=\"1\" class=\"dataframe\">\n",
       "  <thead>\n",
       "    <tr style=\"text-align: right;\">\n",
       "      <th></th>\n",
       "      <th>first</th>\n",
       "      <th>last</th>\n",
       "      <th>email</th>\n",
       "    </tr>\n",
       "  </thead>\n",
       "  <tbody>\n",
       "    <tr>\n",
       "      <th>0</th>\n",
       "      <td>Corey</td>\n",
       "      <td>Schafer</td>\n",
       "      <td>CoreySchafer@gmail.com</td>\n",
       "    </tr>\n",
       "    <tr>\n",
       "      <th>1</th>\n",
       "      <td>Jane</td>\n",
       "      <td>Doe</td>\n",
       "      <td>JaneDoe@gmail.com</td>\n",
       "    </tr>\n",
       "  </tbody>\n",
       "</table>\n",
       "</div>"
      ],
      "text/plain": [
       "   first     last                   email\n",
       "0  Corey  Schafer  CoreySchafer@gmail.com\n",
       "1   Jane      Doe       JaneDoe@gmail.com"
      ]
     },
     "execution_count": 15,
     "metadata": {},
     "output_type": "execute_result"
    }
   ],
   "source": [
    "# loc - you search by label\n",
    "dfp.loc[[0,1]]"
   ]
  },
  {
   "cell_type": "code",
   "execution_count": 16,
   "id": "958f82a2-bbfa-44a4-8f85-68c3b3be3708",
   "metadata": {},
   "outputs": [
    {
     "data": {
      "text/plain": [
       "0    CoreySchafer@gmail.com\n",
       "1         JaneDoe@gmail.com\n",
       "Name: email, dtype: object"
      ]
     },
     "execution_count": 16,
     "metadata": {},
     "output_type": "execute_result"
    }
   ],
   "source": [
    "dfp.loc[[0,1], 'email']"
   ]
  },
  {
   "cell_type": "code",
   "execution_count": 17,
   "id": "397d5cc1-a0d4-402a-95ed-ab6975747a8a",
   "metadata": {},
   "outputs": [
    {
     "data": {
      "text/html": [
       "<div>\n",
       "<style scoped>\n",
       "    .dataframe tbody tr th:only-of-type {\n",
       "        vertical-align: middle;\n",
       "    }\n",
       "\n",
       "    .dataframe tbody tr th {\n",
       "        vertical-align: top;\n",
       "    }\n",
       "\n",
       "    .dataframe thead th {\n",
       "        text-align: right;\n",
       "    }\n",
       "</style>\n",
       "<table border=\"1\" class=\"dataframe\">\n",
       "  <thead>\n",
       "    <tr style=\"text-align: right;\">\n",
       "      <th></th>\n",
       "      <th>email</th>\n",
       "      <th>last</th>\n",
       "    </tr>\n",
       "  </thead>\n",
       "  <tbody>\n",
       "    <tr>\n",
       "      <th>0</th>\n",
       "      <td>CoreySchafer@gmail.com</td>\n",
       "      <td>Schafer</td>\n",
       "    </tr>\n",
       "    <tr>\n",
       "      <th>1</th>\n",
       "      <td>JaneDoe@gmail.com</td>\n",
       "      <td>Doe</td>\n",
       "    </tr>\n",
       "  </tbody>\n",
       "</table>\n",
       "</div>"
      ],
      "text/plain": [
       "                    email     last\n",
       "0  CoreySchafer@gmail.com  Schafer\n",
       "1       JaneDoe@gmail.com      Doe"
      ]
     },
     "execution_count": 17,
     "metadata": {},
     "output_type": "execute_result"
    }
   ],
   "source": [
    "dfp.loc[[0,1], ['email', 'last']]"
   ]
  },
  {
   "cell_type": "code",
   "execution_count": 18,
   "id": "42834140-9f7b-453f-9e76-24313e7b3a04",
   "metadata": {},
   "outputs": [
    {
     "data": {
      "text/html": [
       "<div>\n",
       "<style scoped>\n",
       "    .dataframe tbody tr th:only-of-type {\n",
       "        vertical-align: middle;\n",
       "    }\n",
       "\n",
       "    .dataframe tbody tr th {\n",
       "        vertical-align: top;\n",
       "    }\n",
       "\n",
       "    .dataframe thead th {\n",
       "        text-align: right;\n",
       "    }\n",
       "</style>\n",
       "<table border=\"1\" class=\"dataframe\">\n",
       "  <thead>\n",
       "    <tr style=\"text-align: right;\">\n",
       "      <th></th>\n",
       "      <th>first</th>\n",
       "      <th>last</th>\n",
       "    </tr>\n",
       "    <tr>\n",
       "      <th>email</th>\n",
       "      <th></th>\n",
       "      <th></th>\n",
       "    </tr>\n",
       "  </thead>\n",
       "  <tbody>\n",
       "    <tr>\n",
       "      <th>CoreySchafer@gmail.com</th>\n",
       "      <td>Corey</td>\n",
       "      <td>Schafer</td>\n",
       "    </tr>\n",
       "    <tr>\n",
       "      <th>JaneDoe@gmail.com</th>\n",
       "      <td>Jane</td>\n",
       "      <td>Doe</td>\n",
       "    </tr>\n",
       "    <tr>\n",
       "      <th>JohnDoe@gmail.com</th>\n",
       "      <td>John</td>\n",
       "      <td>Doe</td>\n",
       "    </tr>\n",
       "  </tbody>\n",
       "</table>\n",
       "</div>"
      ],
      "text/plain": [
       "                        first     last\n",
       "email                                 \n",
       "CoreySchafer@gmail.com  Corey  Schafer\n",
       "JaneDoe@gmail.com        Jane      Doe\n",
       "JohnDoe@gmail.com        John      Doe"
      ]
     },
     "execution_count": 18,
     "metadata": {},
     "output_type": "execute_result"
    }
   ],
   "source": [
    "# to set a column (in this case 'email') from our dataset as the index against the default index \n",
    "# (0, 1, 2 etc which always come at the leftmost side of a dataframe. Index is necessaary for setting a unique identifer for each row.\n",
    "dfp.set_index('email') # this doesn't affect the original dataset as seen below"
   ]
  },
  {
   "cell_type": "code",
   "execution_count": 19,
   "id": "33e0d010-448b-4343-9ca1-2e5fbf2ddeb9",
   "metadata": {},
   "outputs": [
    {
     "data": {
      "text/html": [
       "<div>\n",
       "<style scoped>\n",
       "    .dataframe tbody tr th:only-of-type {\n",
       "        vertical-align: middle;\n",
       "    }\n",
       "\n",
       "    .dataframe tbody tr th {\n",
       "        vertical-align: top;\n",
       "    }\n",
       "\n",
       "    .dataframe thead th {\n",
       "        text-align: right;\n",
       "    }\n",
       "</style>\n",
       "<table border=\"1\" class=\"dataframe\">\n",
       "  <thead>\n",
       "    <tr style=\"text-align: right;\">\n",
       "      <th></th>\n",
       "      <th>first</th>\n",
       "      <th>last</th>\n",
       "      <th>email</th>\n",
       "    </tr>\n",
       "  </thead>\n",
       "  <tbody>\n",
       "    <tr>\n",
       "      <th>0</th>\n",
       "      <td>Corey</td>\n",
       "      <td>Schafer</td>\n",
       "      <td>CoreySchafer@gmail.com</td>\n",
       "    </tr>\n",
       "    <tr>\n",
       "      <th>1</th>\n",
       "      <td>Jane</td>\n",
       "      <td>Doe</td>\n",
       "      <td>JaneDoe@gmail.com</td>\n",
       "    </tr>\n",
       "    <tr>\n",
       "      <th>2</th>\n",
       "      <td>John</td>\n",
       "      <td>Doe</td>\n",
       "      <td>JohnDoe@gmail.com</td>\n",
       "    </tr>\n",
       "  </tbody>\n",
       "</table>\n",
       "</div>"
      ],
      "text/plain": [
       "   first     last                   email\n",
       "0  Corey  Schafer  CoreySchafer@gmail.com\n",
       "1   Jane      Doe       JaneDoe@gmail.com\n",
       "2   John      Doe       JohnDoe@gmail.com"
      ]
     },
     "execution_count": 19,
     "metadata": {},
     "output_type": "execute_result"
    }
   ],
   "source": [
    "dfp"
   ]
  },
  {
   "cell_type": "code",
   "execution_count": 20,
   "id": "aafc243a-3bfb-49f0-885d-8388735427c8",
   "metadata": {},
   "outputs": [],
   "source": [
    "# to make this change to have an effect on the dataset you add inplace=True\n",
    "dfp.set_index('email', inplace=True)"
   ]
  },
  {
   "cell_type": "code",
   "execution_count": 21,
   "id": "4377a57d-1bd4-44ab-a63e-3c1d15bc2289",
   "metadata": {},
   "outputs": [
    {
     "data": {
      "text/html": [
       "<div>\n",
       "<style scoped>\n",
       "    .dataframe tbody tr th:only-of-type {\n",
       "        vertical-align: middle;\n",
       "    }\n",
       "\n",
       "    .dataframe tbody tr th {\n",
       "        vertical-align: top;\n",
       "    }\n",
       "\n",
       "    .dataframe thead th {\n",
       "        text-align: right;\n",
       "    }\n",
       "</style>\n",
       "<table border=\"1\" class=\"dataframe\">\n",
       "  <thead>\n",
       "    <tr style=\"text-align: right;\">\n",
       "      <th></th>\n",
       "      <th>first</th>\n",
       "      <th>last</th>\n",
       "    </tr>\n",
       "    <tr>\n",
       "      <th>email</th>\n",
       "      <th></th>\n",
       "      <th></th>\n",
       "    </tr>\n",
       "  </thead>\n",
       "  <tbody>\n",
       "    <tr>\n",
       "      <th>CoreySchafer@gmail.com</th>\n",
       "      <td>Corey</td>\n",
       "      <td>Schafer</td>\n",
       "    </tr>\n",
       "    <tr>\n",
       "      <th>JaneDoe@gmail.com</th>\n",
       "      <td>Jane</td>\n",
       "      <td>Doe</td>\n",
       "    </tr>\n",
       "    <tr>\n",
       "      <th>JohnDoe@gmail.com</th>\n",
       "      <td>John</td>\n",
       "      <td>Doe</td>\n",
       "    </tr>\n",
       "  </tbody>\n",
       "</table>\n",
       "</div>"
      ],
      "text/plain": [
       "                        first     last\n",
       "email                                 \n",
       "CoreySchafer@gmail.com  Corey  Schafer\n",
       "JaneDoe@gmail.com        Jane      Doe\n",
       "JohnDoe@gmail.com        John      Doe"
      ]
     },
     "execution_count": 21,
     "metadata": {},
     "output_type": "execute_result"
    }
   ],
   "source": [
    "dfp"
   ]
  },
  {
   "cell_type": "code",
   "execution_count": 22,
   "id": "0001b7ab-deb1-4d6d-b024-682b13fc0dbe",
   "metadata": {},
   "outputs": [
    {
     "data": {
      "text/plain": [
       "Index(['CoreySchafer@gmail.com', 'JaneDoe@gmail.com', 'JohnDoe@gmail.com'], dtype='object', name='email')"
      ]
     },
     "execution_count": 22,
     "metadata": {},
     "output_type": "execute_result"
    }
   ],
   "source": [
    "dfp.index"
   ]
  },
  {
   "cell_type": "code",
   "execution_count": 23,
   "id": "92ce6f6e-874c-4076-bbe4-d34479c8fa92",
   "metadata": {},
   "outputs": [
    {
     "data": {
      "text/plain": [
       "first      Corey\n",
       "last     Schafer\n",
       "Name: CoreySchafer@gmail.com, dtype: object"
      ]
     },
     "execution_count": 23,
     "metadata": {},
     "output_type": "execute_result"
    }
   ],
   "source": [
    "dfp.loc['CoreySchafer@gmail.com']"
   ]
  },
  {
   "cell_type": "code",
   "execution_count": 24,
   "id": "682887d4-153a-4f85-96b6-6e0a925a7ed4",
   "metadata": {},
   "outputs": [
    {
     "data": {
      "text/plain": [
       "'Schafer'"
      ]
     },
     "execution_count": 24,
     "metadata": {},
     "output_type": "execute_result"
    }
   ],
   "source": [
    "dfp.loc['CoreySchafer@gmail.com', 'last']"
   ]
  },
  {
   "cell_type": "code",
   "execution_count": 25,
   "id": "b5f1bb2f-2227-4258-82b8-8c6a898af123",
   "metadata": {},
   "outputs": [],
   "source": [
    "# dfp.loc[0] # this work anymore bc we have labeled our index\n"
   ]
  },
  {
   "cell_type": "code",
   "execution_count": 26,
   "id": "8d3aa377-0280-4ed6-a5c1-66668738115a",
   "metadata": {},
   "outputs": [
    {
     "data": {
      "text/plain": [
       "first      Corey\n",
       "last     Schafer\n",
       "Name: CoreySchafer@gmail.com, dtype: object"
      ]
     },
     "execution_count": 26,
     "metadata": {},
     "output_type": "execute_result"
    }
   ],
   "source": [
    "dfp.iloc[0] # this still works bc by default the integer still exists but no longer on display"
   ]
  },
  {
   "cell_type": "code",
   "execution_count": 27,
   "id": "7c90c26b-e8ef-4a45-81fd-e21995f6f182",
   "metadata": {},
   "outputs": [],
   "source": [
    "# to reset an index\n",
    "dfp.reset_index(inplace=True)"
   ]
  },
  {
   "cell_type": "code",
   "execution_count": 28,
   "id": "bd1edd01-4e96-418f-acba-af3cae926bbf",
   "metadata": {},
   "outputs": [
    {
     "data": {
      "text/html": [
       "<div>\n",
       "<style scoped>\n",
       "    .dataframe tbody tr th:only-of-type {\n",
       "        vertical-align: middle;\n",
       "    }\n",
       "\n",
       "    .dataframe tbody tr th {\n",
       "        vertical-align: top;\n",
       "    }\n",
       "\n",
       "    .dataframe thead th {\n",
       "        text-align: right;\n",
       "    }\n",
       "</style>\n",
       "<table border=\"1\" class=\"dataframe\">\n",
       "  <thead>\n",
       "    <tr style=\"text-align: right;\">\n",
       "      <th></th>\n",
       "      <th>email</th>\n",
       "      <th>first</th>\n",
       "      <th>last</th>\n",
       "    </tr>\n",
       "  </thead>\n",
       "  <tbody>\n",
       "    <tr>\n",
       "      <th>0</th>\n",
       "      <td>CoreySchafer@gmail.com</td>\n",
       "      <td>Corey</td>\n",
       "      <td>Schafer</td>\n",
       "    </tr>\n",
       "    <tr>\n",
       "      <th>1</th>\n",
       "      <td>JaneDoe@gmail.com</td>\n",
       "      <td>Jane</td>\n",
       "      <td>Doe</td>\n",
       "    </tr>\n",
       "    <tr>\n",
       "      <th>2</th>\n",
       "      <td>JohnDoe@gmail.com</td>\n",
       "      <td>John</td>\n",
       "      <td>Doe</td>\n",
       "    </tr>\n",
       "  </tbody>\n",
       "</table>\n",
       "</div>"
      ],
      "text/plain": [
       "                    email  first     last\n",
       "0  CoreySchafer@gmail.com  Corey  Schafer\n",
       "1       JaneDoe@gmail.com   Jane      Doe\n",
       "2       JohnDoe@gmail.com   John      Doe"
      ]
     },
     "execution_count": 28,
     "metadata": {},
     "output_type": "execute_result"
    }
   ],
   "source": [
    "dfp"
   ]
  },
  {
   "cell_type": "code",
   "execution_count": 29,
   "id": "5a315507-83d6-45b7-b36b-3b02eb198b66",
   "metadata": {},
   "outputs": [],
   "source": [
    "# filtering - to filter out lastname Doe\n",
    "filt = dfp['last']=='Doe'"
   ]
  },
  {
   "cell_type": "code",
   "execution_count": 30,
   "id": "73bf7349-d1ad-418b-824d-d2a4f00d969a",
   "metadata": {},
   "outputs": [
    {
     "data": {
      "text/plain": [
       "0    False\n",
       "1     True\n",
       "2     True\n",
       "Name: last, dtype: bool"
      ]
     },
     "execution_count": 30,
     "metadata": {},
     "output_type": "execute_result"
    }
   ],
   "source": [
    "filt"
   ]
  },
  {
   "cell_type": "code",
   "execution_count": 31,
   "id": "3bc8f01b-d4f6-4ca2-9ef9-4696b0da3fa1",
   "metadata": {},
   "outputs": [
    {
     "data": {
      "text/html": [
       "<div>\n",
       "<style scoped>\n",
       "    .dataframe tbody tr th:only-of-type {\n",
       "        vertical-align: middle;\n",
       "    }\n",
       "\n",
       "    .dataframe tbody tr th {\n",
       "        vertical-align: top;\n",
       "    }\n",
       "\n",
       "    .dataframe thead th {\n",
       "        text-align: right;\n",
       "    }\n",
       "</style>\n",
       "<table border=\"1\" class=\"dataframe\">\n",
       "  <thead>\n",
       "    <tr style=\"text-align: right;\">\n",
       "      <th></th>\n",
       "      <th>email</th>\n",
       "      <th>first</th>\n",
       "      <th>last</th>\n",
       "    </tr>\n",
       "  </thead>\n",
       "  <tbody>\n",
       "    <tr>\n",
       "      <th>1</th>\n",
       "      <td>JaneDoe@gmail.com</td>\n",
       "      <td>Jane</td>\n",
       "      <td>Doe</td>\n",
       "    </tr>\n",
       "    <tr>\n",
       "      <th>2</th>\n",
       "      <td>JohnDoe@gmail.com</td>\n",
       "      <td>John</td>\n",
       "      <td>Doe</td>\n",
       "    </tr>\n",
       "  </tbody>\n",
       "</table>\n",
       "</div>"
      ],
      "text/plain": [
       "               email first last\n",
       "1  JaneDoe@gmail.com  Jane  Doe\n",
       "2  JohnDoe@gmail.com  John  Doe"
      ]
     },
     "execution_count": 31,
     "metadata": {},
     "output_type": "execute_result"
    }
   ],
   "source": [
    "dfp[filt]"
   ]
  },
  {
   "cell_type": "code",
   "execution_count": 32,
   "id": "aeb939f4-2ea5-4ccb-9a8a-3dbabfe04499",
   "metadata": {},
   "outputs": [
    {
     "data": {
      "text/plain": [
       "1    Jane\n",
       "2    John\n",
       "Name: first, dtype: object"
      ]
     },
     "execution_count": 32,
     "metadata": {},
     "output_type": "execute_result"
    }
   ],
   "source": [
    "# or\n",
    "dfp.loc[filt] # this makes it easier to filter by just a particular column eg\n",
    "\n",
    "dfp.loc[filt,'first']"
   ]
  },
  {
   "cell_type": "code",
   "execution_count": 33,
   "id": "7b6916b9-7cf4-481c-99db-239e5518e0cb",
   "metadata": {},
   "outputs": [
    {
     "data": {
      "text/html": [
       "<div>\n",
       "<style scoped>\n",
       "    .dataframe tbody tr th:only-of-type {\n",
       "        vertical-align: middle;\n",
       "    }\n",
       "\n",
       "    .dataframe tbody tr th {\n",
       "        vertical-align: top;\n",
       "    }\n",
       "\n",
       "    .dataframe thead th {\n",
       "        text-align: right;\n",
       "    }\n",
       "</style>\n",
       "<table border=\"1\" class=\"dataframe\">\n",
       "  <thead>\n",
       "    <tr style=\"text-align: right;\">\n",
       "      <th></th>\n",
       "      <th>email</th>\n",
       "      <th>first</th>\n",
       "      <th>last</th>\n",
       "    </tr>\n",
       "  </thead>\n",
       "  <tbody>\n",
       "    <tr>\n",
       "      <th>1</th>\n",
       "      <td>JaneDoe@gmail.com</td>\n",
       "      <td>Jane</td>\n",
       "      <td>Doe</td>\n",
       "    </tr>\n",
       "    <tr>\n",
       "      <th>2</th>\n",
       "      <td>JohnDoe@gmail.com</td>\n",
       "      <td>John</td>\n",
       "      <td>Doe</td>\n",
       "    </tr>\n",
       "  </tbody>\n",
       "</table>\n",
       "</div>"
      ],
      "text/plain": [
       "               email first last\n",
       "1  JaneDoe@gmail.com  Jane  Doe\n",
       "2  JohnDoe@gmail.com  John  Doe"
      ]
     },
     "execution_count": 33,
     "metadata": {},
     "output_type": "execute_result"
    }
   ],
   "source": [
    "# alternative to that, you can combine the two and run it once\n",
    "dfp[dfp['last']=='Doe']"
   ]
  },
  {
   "cell_type": "code",
   "execution_count": 34,
   "id": "3a21f187-229e-4e83-b8ae-44b6db291a31",
   "metadata": {},
   "outputs": [],
   "source": [
    "# to filter for more than one using &\n",
    "filt = (dfp['last']=='Doe') & (dfp['first']=='John') "
   ]
  },
  {
   "cell_type": "code",
   "execution_count": 35,
   "id": "ced28196-bab9-48e2-979a-a1c5b74626c4",
   "metadata": {},
   "outputs": [
    {
     "data": {
      "text/html": [
       "<div>\n",
       "<style scoped>\n",
       "    .dataframe tbody tr th:only-of-type {\n",
       "        vertical-align: middle;\n",
       "    }\n",
       "\n",
       "    .dataframe tbody tr th {\n",
       "        vertical-align: top;\n",
       "    }\n",
       "\n",
       "    .dataframe thead th {\n",
       "        text-align: right;\n",
       "    }\n",
       "</style>\n",
       "<table border=\"1\" class=\"dataframe\">\n",
       "  <thead>\n",
       "    <tr style=\"text-align: right;\">\n",
       "      <th></th>\n",
       "      <th>email</th>\n",
       "      <th>first</th>\n",
       "      <th>last</th>\n",
       "    </tr>\n",
       "  </thead>\n",
       "  <tbody>\n",
       "    <tr>\n",
       "      <th>2</th>\n",
       "      <td>JohnDoe@gmail.com</td>\n",
       "      <td>John</td>\n",
       "      <td>Doe</td>\n",
       "    </tr>\n",
       "  </tbody>\n",
       "</table>\n",
       "</div>"
      ],
      "text/plain": [
       "               email first last\n",
       "2  JohnDoe@gmail.com  John  Doe"
      ]
     },
     "execution_count": 35,
     "metadata": {},
     "output_type": "execute_result"
    }
   ],
   "source": [
    "dfp[filt]"
   ]
  },
  {
   "cell_type": "code",
   "execution_count": 36,
   "id": "57e75406-136c-40d2-81d2-83855f21cc38",
   "metadata": {},
   "outputs": [],
   "source": [
    "# using or |\n",
    "filt = (dfp['last']=='Schafer') | (dfp['first']=='John') "
   ]
  },
  {
   "cell_type": "code",
   "execution_count": 37,
   "id": "7dc59393-a629-4c29-a863-8a3dd8729947",
   "metadata": {},
   "outputs": [
    {
     "data": {
      "text/html": [
       "<div>\n",
       "<style scoped>\n",
       "    .dataframe tbody tr th:only-of-type {\n",
       "        vertical-align: middle;\n",
       "    }\n",
       "\n",
       "    .dataframe tbody tr th {\n",
       "        vertical-align: top;\n",
       "    }\n",
       "\n",
       "    .dataframe thead th {\n",
       "        text-align: right;\n",
       "    }\n",
       "</style>\n",
       "<table border=\"1\" class=\"dataframe\">\n",
       "  <thead>\n",
       "    <tr style=\"text-align: right;\">\n",
       "      <th></th>\n",
       "      <th>email</th>\n",
       "      <th>first</th>\n",
       "      <th>last</th>\n",
       "    </tr>\n",
       "  </thead>\n",
       "  <tbody>\n",
       "    <tr>\n",
       "      <th>0</th>\n",
       "      <td>CoreySchafer@gmail.com</td>\n",
       "      <td>Corey</td>\n",
       "      <td>Schafer</td>\n",
       "    </tr>\n",
       "    <tr>\n",
       "      <th>2</th>\n",
       "      <td>JohnDoe@gmail.com</td>\n",
       "      <td>John</td>\n",
       "      <td>Doe</td>\n",
       "    </tr>\n",
       "  </tbody>\n",
       "</table>\n",
       "</div>"
      ],
      "text/plain": [
       "                    email  first     last\n",
       "0  CoreySchafer@gmail.com  Corey  Schafer\n",
       "2       JohnDoe@gmail.com   John      Doe"
      ]
     },
     "execution_count": 37,
     "metadata": {},
     "output_type": "execute_result"
    }
   ],
   "source": [
    "dfp[filt]"
   ]
  },
  {
   "cell_type": "code",
   "execution_count": 38,
   "id": "e0f47542-675e-4766-b295-c9b0cd15660d",
   "metadata": {},
   "outputs": [
    {
     "data": {
      "text/html": [
       "<div>\n",
       "<style scoped>\n",
       "    .dataframe tbody tr th:only-of-type {\n",
       "        vertical-align: middle;\n",
       "    }\n",
       "\n",
       "    .dataframe tbody tr th {\n",
       "        vertical-align: top;\n",
       "    }\n",
       "\n",
       "    .dataframe thead th {\n",
       "        text-align: right;\n",
       "    }\n",
       "</style>\n",
       "<table border=\"1\" class=\"dataframe\">\n",
       "  <thead>\n",
       "    <tr style=\"text-align: right;\">\n",
       "      <th></th>\n",
       "      <th>email</th>\n",
       "      <th>first</th>\n",
       "      <th>last</th>\n",
       "    </tr>\n",
       "  </thead>\n",
       "  <tbody>\n",
       "    <tr>\n",
       "      <th>1</th>\n",
       "      <td>JaneDoe@gmail.com</td>\n",
       "      <td>Jane</td>\n",
       "      <td>Doe</td>\n",
       "    </tr>\n",
       "  </tbody>\n",
       "</table>\n",
       "</div>"
      ],
      "text/plain": [
       "               email first last\n",
       "1  JaneDoe@gmail.com  Jane  Doe"
      ]
     },
     "execution_count": 38,
     "metadata": {},
     "output_type": "execute_result"
    }
   ],
   "source": [
    "# the use of - to filter out values\n",
    "dfp[-filt]"
   ]
  },
  {
   "cell_type": "code",
   "execution_count": 39,
   "id": "7cb52f09-cd81-4d45-a188-85f9b16e3be1",
   "metadata": {},
   "outputs": [],
   "source": [
    "#  Updating Rows and Columns - Modifying Data Within DataFrames\n",
    "# to change column names\n",
    "dfp.columns = ['email','First Name', 'Last Name']"
   ]
  },
  {
   "cell_type": "code",
   "execution_count": 40,
   "id": "4267f15d-55ef-4f8f-b555-44566f98c022",
   "metadata": {},
   "outputs": [
    {
     "data": {
      "text/plain": [
       "Index(['email', 'First Name', 'Last Name'], dtype='object')"
      ]
     },
     "execution_count": 40,
     "metadata": {},
     "output_type": "execute_result"
    }
   ],
   "source": [
    "dfp.columns"
   ]
  },
  {
   "cell_type": "code",
   "execution_count": 41,
   "id": "e746447b-f958-4fa5-99b4-ec373f4ffab1",
   "metadata": {},
   "outputs": [],
   "source": [
    "# to capitalize the column names\n",
    "dfp.columns = [x.upper() for x in dfp.columns]"
   ]
  },
  {
   "cell_type": "code",
   "execution_count": 42,
   "id": "27e22e50-9064-4491-976c-4b30739c5de0",
   "metadata": {},
   "outputs": [
    {
     "data": {
      "text/html": [
       "<div>\n",
       "<style scoped>\n",
       "    .dataframe tbody tr th:only-of-type {\n",
       "        vertical-align: middle;\n",
       "    }\n",
       "\n",
       "    .dataframe tbody tr th {\n",
       "        vertical-align: top;\n",
       "    }\n",
       "\n",
       "    .dataframe thead th {\n",
       "        text-align: right;\n",
       "    }\n",
       "</style>\n",
       "<table border=\"1\" class=\"dataframe\">\n",
       "  <thead>\n",
       "    <tr style=\"text-align: right;\">\n",
       "      <th></th>\n",
       "      <th>EMAIL</th>\n",
       "      <th>FIRST NAME</th>\n",
       "      <th>LAST NAME</th>\n",
       "    </tr>\n",
       "  </thead>\n",
       "  <tbody>\n",
       "    <tr>\n",
       "      <th>0</th>\n",
       "      <td>CoreySchafer@gmail.com</td>\n",
       "      <td>Corey</td>\n",
       "      <td>Schafer</td>\n",
       "    </tr>\n",
       "    <tr>\n",
       "      <th>1</th>\n",
       "      <td>JaneDoe@gmail.com</td>\n",
       "      <td>Jane</td>\n",
       "      <td>Doe</td>\n",
       "    </tr>\n",
       "    <tr>\n",
       "      <th>2</th>\n",
       "      <td>JohnDoe@gmail.com</td>\n",
       "      <td>John</td>\n",
       "      <td>Doe</td>\n",
       "    </tr>\n",
       "  </tbody>\n",
       "</table>\n",
       "</div>"
      ],
      "text/plain": [
       "                    EMAIL FIRST NAME LAST NAME\n",
       "0  CoreySchafer@gmail.com      Corey   Schafer\n",
       "1       JaneDoe@gmail.com       Jane       Doe\n",
       "2       JohnDoe@gmail.com       John       Doe"
      ]
     },
     "execution_count": 42,
     "metadata": {},
     "output_type": "execute_result"
    }
   ],
   "source": [
    "dfp"
   ]
  },
  {
   "cell_type": "code",
   "execution_count": 43,
   "id": "c1b63a98-474d-4f4c-993e-6a17cbdc04e0",
   "metadata": {},
   "outputs": [],
   "source": [
    "# so i intentionally added spacing inbetween the names which is exactky wrong, to replace this space with underscore\n",
    "dfp.columns = dfp.columns.str.replace(' ', '_')"
   ]
  },
  {
   "cell_type": "code",
   "execution_count": 44,
   "id": "03bbb7c7-5c3e-4533-831a-30ca4677d153",
   "metadata": {},
   "outputs": [
    {
     "data": {
      "text/html": [
       "<div>\n",
       "<style scoped>\n",
       "    .dataframe tbody tr th:only-of-type {\n",
       "        vertical-align: middle;\n",
       "    }\n",
       "\n",
       "    .dataframe tbody tr th {\n",
       "        vertical-align: top;\n",
       "    }\n",
       "\n",
       "    .dataframe thead th {\n",
       "        text-align: right;\n",
       "    }\n",
       "</style>\n",
       "<table border=\"1\" class=\"dataframe\">\n",
       "  <thead>\n",
       "    <tr style=\"text-align: right;\">\n",
       "      <th></th>\n",
       "      <th>EMAIL</th>\n",
       "      <th>FIRST_NAME</th>\n",
       "      <th>LAST_NAME</th>\n",
       "    </tr>\n",
       "  </thead>\n",
       "  <tbody>\n",
       "    <tr>\n",
       "      <th>0</th>\n",
       "      <td>CoreySchafer@gmail.com</td>\n",
       "      <td>Corey</td>\n",
       "      <td>Schafer</td>\n",
       "    </tr>\n",
       "    <tr>\n",
       "      <th>1</th>\n",
       "      <td>JaneDoe@gmail.com</td>\n",
       "      <td>Jane</td>\n",
       "      <td>Doe</td>\n",
       "    </tr>\n",
       "    <tr>\n",
       "      <th>2</th>\n",
       "      <td>JohnDoe@gmail.com</td>\n",
       "      <td>John</td>\n",
       "      <td>Doe</td>\n",
       "    </tr>\n",
       "  </tbody>\n",
       "</table>\n",
       "</div>"
      ],
      "text/plain": [
       "                    EMAIL FIRST_NAME LAST_NAME\n",
       "0  CoreySchafer@gmail.com      Corey   Schafer\n",
       "1       JaneDoe@gmail.com       Jane       Doe\n",
       "2       JohnDoe@gmail.com       John       Doe"
      ]
     },
     "execution_count": 44,
     "metadata": {},
     "output_type": "execute_result"
    }
   ],
   "source": [
    "dfp"
   ]
  },
  {
   "cell_type": "code",
   "execution_count": 45,
   "id": "12a3bc7b-fe0d-46ec-9f91-cf3926a18fba",
   "metadata": {},
   "outputs": [
    {
     "data": {
      "text/html": [
       "<div>\n",
       "<style scoped>\n",
       "    .dataframe tbody tr th:only-of-type {\n",
       "        vertical-align: middle;\n",
       "    }\n",
       "\n",
       "    .dataframe tbody tr th {\n",
       "        vertical-align: top;\n",
       "    }\n",
       "\n",
       "    .dataframe thead th {\n",
       "        text-align: right;\n",
       "    }\n",
       "</style>\n",
       "<table border=\"1\" class=\"dataframe\">\n",
       "  <thead>\n",
       "    <tr style=\"text-align: right;\">\n",
       "      <th></th>\n",
       "      <th>email</th>\n",
       "      <th>first_name</th>\n",
       "      <th>last_name</th>\n",
       "    </tr>\n",
       "  </thead>\n",
       "  <tbody>\n",
       "    <tr>\n",
       "      <th>0</th>\n",
       "      <td>CoreySchafer@gmail.com</td>\n",
       "      <td>Corey</td>\n",
       "      <td>Schafer</td>\n",
       "    </tr>\n",
       "    <tr>\n",
       "      <th>1</th>\n",
       "      <td>JaneDoe@gmail.com</td>\n",
       "      <td>Jane</td>\n",
       "      <td>Doe</td>\n",
       "    </tr>\n",
       "    <tr>\n",
       "      <th>2</th>\n",
       "      <td>JohnDoe@gmail.com</td>\n",
       "      <td>John</td>\n",
       "      <td>Doe</td>\n",
       "    </tr>\n",
       "  </tbody>\n",
       "</table>\n",
       "</div>"
      ],
      "text/plain": [
       "                    email first_name last_name\n",
       "0  CoreySchafer@gmail.com      Corey   Schafer\n",
       "1       JaneDoe@gmail.com       Jane       Doe\n",
       "2       JohnDoe@gmail.com       John       Doe"
      ]
     },
     "execution_count": 45,
     "metadata": {},
     "output_type": "execute_result"
    }
   ],
   "source": [
    "#to change the column names back to lowercase\n",
    "dfp.columns = [x.lower() for x in dfp.columns]\n",
    "dfp"
   ]
  },
  {
   "cell_type": "code",
   "execution_count": 55,
   "id": "4f12698c-146d-4ed8-abe5-e5c72d56992a",
   "metadata": {},
   "outputs": [],
   "source": [
    "# to rearrange my columns \n",
    "new_order = ['first_name', 'last_name', 'email']\n",
    "dfp = dfp[new_order]"
   ]
  },
  {
   "cell_type": "code",
   "execution_count": 58,
   "id": "884e21dd-259f-431b-82fb-01c4221d4cb5",
   "metadata": {},
   "outputs": [
    {
     "data": {
      "text/html": [
       "<div>\n",
       "<style scoped>\n",
       "    .dataframe tbody tr th:only-of-type {\n",
       "        vertical-align: middle;\n",
       "    }\n",
       "\n",
       "    .dataframe tbody tr th {\n",
       "        vertical-align: top;\n",
       "    }\n",
       "\n",
       "    .dataframe thead th {\n",
       "        text-align: right;\n",
       "    }\n",
       "</style>\n",
       "<table border=\"1\" class=\"dataframe\">\n",
       "  <thead>\n",
       "    <tr style=\"text-align: right;\">\n",
       "      <th></th>\n",
       "      <th>first_name</th>\n",
       "      <th>last_name</th>\n",
       "      <th>email</th>\n",
       "    </tr>\n",
       "  </thead>\n",
       "  <tbody>\n",
       "    <tr>\n",
       "      <th>0</th>\n",
       "      <td>Corey</td>\n",
       "      <td>Schafer</td>\n",
       "      <td>CoreySchafer@gmail.com</td>\n",
       "    </tr>\n",
       "    <tr>\n",
       "      <th>1</th>\n",
       "      <td>Jane</td>\n",
       "      <td>Doe</td>\n",
       "      <td>JaneDoe@gmail.com</td>\n",
       "    </tr>\n",
       "    <tr>\n",
       "      <th>2</th>\n",
       "      <td>John</td>\n",
       "      <td>Smith</td>\n",
       "      <td>Johnsmith@gmail.com</td>\n",
       "    </tr>\n",
       "  </tbody>\n",
       "</table>\n",
       "</div>"
      ],
      "text/plain": [
       "  first_name last_name                   email\n",
       "0      Corey   Schafer  CoreySchafer@gmail.com\n",
       "1       Jane       Doe       JaneDoe@gmail.com\n",
       "2       John     Smith     Johnsmith@gmail.com"
      ]
     },
     "execution_count": 58,
     "metadata": {},
     "output_type": "execute_result"
    }
   ],
   "source": [
    "dfp"
   ]
  },
  {
   "cell_type": "code",
   "execution_count": 59,
   "id": "8a458c4a-5d6f-4200-b835-fb62d478d1b1",
   "metadata": {},
   "outputs": [],
   "source": [
    "# dfpto update rows\n",
    "dfp.loc[2] = ['John', 'Smith', 'Johnsmith@gmail.com']"
   ]
  },
  {
   "cell_type": "code",
   "execution_count": 60,
   "id": "bc16ef28-afd5-47fd-aa36-643a49877d68",
   "metadata": {},
   "outputs": [
    {
     "data": {
      "text/html": [
       "<div>\n",
       "<style scoped>\n",
       "    .dataframe tbody tr th:only-of-type {\n",
       "        vertical-align: middle;\n",
       "    }\n",
       "\n",
       "    .dataframe tbody tr th {\n",
       "        vertical-align: top;\n",
       "    }\n",
       "\n",
       "    .dataframe thead th {\n",
       "        text-align: right;\n",
       "    }\n",
       "</style>\n",
       "<table border=\"1\" class=\"dataframe\">\n",
       "  <thead>\n",
       "    <tr style=\"text-align: right;\">\n",
       "      <th></th>\n",
       "      <th>first_name</th>\n",
       "      <th>last_name</th>\n",
       "      <th>email</th>\n",
       "    </tr>\n",
       "  </thead>\n",
       "  <tbody>\n",
       "    <tr>\n",
       "      <th>0</th>\n",
       "      <td>Corey</td>\n",
       "      <td>Schafer</td>\n",
       "      <td>CoreySchafer@gmail.com</td>\n",
       "    </tr>\n",
       "    <tr>\n",
       "      <th>1</th>\n",
       "      <td>Jane</td>\n",
       "      <td>Doe</td>\n",
       "      <td>JaneDoe@gmail.com</td>\n",
       "    </tr>\n",
       "    <tr>\n",
       "      <th>2</th>\n",
       "      <td>John</td>\n",
       "      <td>Smith</td>\n",
       "      <td>Johnsmith@gmail.com</td>\n",
       "    </tr>\n",
       "  </tbody>\n",
       "</table>\n",
       "</div>"
      ],
      "text/plain": [
       "  first_name last_name                   email\n",
       "0      Corey   Schafer  CoreySchafer@gmail.com\n",
       "1       Jane       Doe       JaneDoe@gmail.com\n",
       "2       John     Smith     Johnsmith@gmail.com"
      ]
     },
     "execution_count": 60,
     "metadata": {},
     "output_type": "execute_result"
    }
   ],
   "source": [
    "dfp"
   ]
  },
  {
   "cell_type": "code",
   "execution_count": 61,
   "id": "b377cf60-69b8-436d-bd09-cc96ea51ab97",
   "metadata": {},
   "outputs": [],
   "source": [
    "dfp.loc[2,['last_name', 'email']] = ['Doe', 'JohnDoe@gmail.com']"
   ]
  },
  {
   "cell_type": "code",
   "execution_count": 62,
   "id": "add32f51-a885-4085-a43c-3fc2af79dc92",
   "metadata": {},
   "outputs": [
    {
     "data": {
      "text/html": [
       "<div>\n",
       "<style scoped>\n",
       "    .dataframe tbody tr th:only-of-type {\n",
       "        vertical-align: middle;\n",
       "    }\n",
       "\n",
       "    .dataframe tbody tr th {\n",
       "        vertical-align: top;\n",
       "    }\n",
       "\n",
       "    .dataframe thead th {\n",
       "        text-align: right;\n",
       "    }\n",
       "</style>\n",
       "<table border=\"1\" class=\"dataframe\">\n",
       "  <thead>\n",
       "    <tr style=\"text-align: right;\">\n",
       "      <th></th>\n",
       "      <th>first_name</th>\n",
       "      <th>last_name</th>\n",
       "      <th>email</th>\n",
       "    </tr>\n",
       "  </thead>\n",
       "  <tbody>\n",
       "    <tr>\n",
       "      <th>0</th>\n",
       "      <td>Corey</td>\n",
       "      <td>Schafer</td>\n",
       "      <td>CoreySchafer@gmail.com</td>\n",
       "    </tr>\n",
       "    <tr>\n",
       "      <th>1</th>\n",
       "      <td>Jane</td>\n",
       "      <td>Doe</td>\n",
       "      <td>JaneDoe@gmail.com</td>\n",
       "    </tr>\n",
       "    <tr>\n",
       "      <th>2</th>\n",
       "      <td>John</td>\n",
       "      <td>Doe</td>\n",
       "      <td>JohnDoe@gmail.com</td>\n",
       "    </tr>\n",
       "  </tbody>\n",
       "</table>\n",
       "</div>"
      ],
      "text/plain": [
       "  first_name last_name                   email\n",
       "0      Corey   Schafer  CoreySchafer@gmail.com\n",
       "1       Jane       Doe       JaneDoe@gmail.com\n",
       "2       John       Doe       JohnDoe@gmail.com"
      ]
     },
     "execution_count": 62,
     "metadata": {},
     "output_type": "execute_result"
    }
   ],
   "source": [
    "dfp"
   ]
  },
  {
   "cell_type": "code",
   "execution_count": 63,
   "id": "fe98986a-17e4-48e8-90e6-942a2b8e26fd",
   "metadata": {},
   "outputs": [],
   "source": [
    "# to change just a value in a row\n",
    "dfp.loc[2,'last_name'] = 'smith'"
   ]
  },
  {
   "cell_type": "code",
   "execution_count": 64,
   "id": "5b4f23c9-0510-40b0-af7d-8be4c2556add",
   "metadata": {},
   "outputs": [
    {
     "data": {
      "text/html": [
       "<div>\n",
       "<style scoped>\n",
       "    .dataframe tbody tr th:only-of-type {\n",
       "        vertical-align: middle;\n",
       "    }\n",
       "\n",
       "    .dataframe tbody tr th {\n",
       "        vertical-align: top;\n",
       "    }\n",
       "\n",
       "    .dataframe thead th {\n",
       "        text-align: right;\n",
       "    }\n",
       "</style>\n",
       "<table border=\"1\" class=\"dataframe\">\n",
       "  <thead>\n",
       "    <tr style=\"text-align: right;\">\n",
       "      <th></th>\n",
       "      <th>first_name</th>\n",
       "      <th>last_name</th>\n",
       "      <th>email</th>\n",
       "    </tr>\n",
       "  </thead>\n",
       "  <tbody>\n",
       "    <tr>\n",
       "      <th>0</th>\n",
       "      <td>Corey</td>\n",
       "      <td>Schafer</td>\n",
       "      <td>CoreySchafer@gmail.com</td>\n",
       "    </tr>\n",
       "    <tr>\n",
       "      <th>1</th>\n",
       "      <td>Jane</td>\n",
       "      <td>Doe</td>\n",
       "      <td>JaneDoe@gmail.com</td>\n",
       "    </tr>\n",
       "    <tr>\n",
       "      <th>2</th>\n",
       "      <td>John</td>\n",
       "      <td>smith</td>\n",
       "      <td>JohnDoe@gmail.com</td>\n",
       "    </tr>\n",
       "  </tbody>\n",
       "</table>\n",
       "</div>"
      ],
      "text/plain": [
       "  first_name last_name                   email\n",
       "0      Corey   Schafer  CoreySchafer@gmail.com\n",
       "1       Jane       Doe       JaneDoe@gmail.com\n",
       "2       John     smith       JohnDoe@gmail.com"
      ]
     },
     "execution_count": 64,
     "metadata": {},
     "output_type": "execute_result"
    }
   ],
   "source": [
    "dfp"
   ]
  },
  {
   "cell_type": "code",
   "execution_count": 65,
   "id": "69b8ccb4-d6cc-435c-82eb-2d5f8d06c31f",
   "metadata": {},
   "outputs": [],
   "source": [
    "# to change that back, you can still use the .loc or .at\n",
    "dfp.at[2, 'last_name'] = 'Doe'"
   ]
  },
  {
   "cell_type": "code",
   "execution_count": 66,
   "id": "485e7642-9eab-4726-b12d-7e7ce783a95a",
   "metadata": {},
   "outputs": [
    {
     "data": {
      "text/html": [
       "<div>\n",
       "<style scoped>\n",
       "    .dataframe tbody tr th:only-of-type {\n",
       "        vertical-align: middle;\n",
       "    }\n",
       "\n",
       "    .dataframe tbody tr th {\n",
       "        vertical-align: top;\n",
       "    }\n",
       "\n",
       "    .dataframe thead th {\n",
       "        text-align: right;\n",
       "    }\n",
       "</style>\n",
       "<table border=\"1\" class=\"dataframe\">\n",
       "  <thead>\n",
       "    <tr style=\"text-align: right;\">\n",
       "      <th></th>\n",
       "      <th>first_name</th>\n",
       "      <th>last_name</th>\n",
       "      <th>email</th>\n",
       "    </tr>\n",
       "  </thead>\n",
       "  <tbody>\n",
       "    <tr>\n",
       "      <th>0</th>\n",
       "      <td>Corey</td>\n",
       "      <td>Schafer</td>\n",
       "      <td>CoreySchafer@gmail.com</td>\n",
       "    </tr>\n",
       "    <tr>\n",
       "      <th>1</th>\n",
       "      <td>Jane</td>\n",
       "      <td>Doe</td>\n",
       "      <td>JaneDoe@gmail.com</td>\n",
       "    </tr>\n",
       "    <tr>\n",
       "      <th>2</th>\n",
       "      <td>John</td>\n",
       "      <td>Doe</td>\n",
       "      <td>JohnDoe@gmail.com</td>\n",
       "    </tr>\n",
       "  </tbody>\n",
       "</table>\n",
       "</div>"
      ],
      "text/plain": [
       "  first_name last_name                   email\n",
       "0      Corey   Schafer  CoreySchafer@gmail.com\n",
       "1       Jane       Doe       JaneDoe@gmail.com\n",
       "2       John       Doe       JohnDoe@gmail.com"
      ]
     },
     "execution_count": 66,
     "metadata": {},
     "output_type": "execute_result"
    }
   ],
   "source": [
    "dfp"
   ]
  },
  {
   "cell_type": "code",
   "execution_count": 67,
   "id": "e9076354-1ed2-4e8e-99d3-a20cf57e2093",
   "metadata": {},
   "outputs": [],
   "source": [
    "# to update multiple rows\n",
    "dfp['email'] = dfp['email'].str.lower() # this changes all the email address to lower case"
   ]
  },
  {
   "cell_type": "code",
   "execution_count": 68,
   "id": "c5dbd91b-d674-4790-b7cb-69d780c9a790",
   "metadata": {},
   "outputs": [
    {
     "data": {
      "text/html": [
       "<div>\n",
       "<style scoped>\n",
       "    .dataframe tbody tr th:only-of-type {\n",
       "        vertical-align: middle;\n",
       "    }\n",
       "\n",
       "    .dataframe tbody tr th {\n",
       "        vertical-align: top;\n",
       "    }\n",
       "\n",
       "    .dataframe thead th {\n",
       "        text-align: right;\n",
       "    }\n",
       "</style>\n",
       "<table border=\"1\" class=\"dataframe\">\n",
       "  <thead>\n",
       "    <tr style=\"text-align: right;\">\n",
       "      <th></th>\n",
       "      <th>first_name</th>\n",
       "      <th>last_name</th>\n",
       "      <th>email</th>\n",
       "    </tr>\n",
       "  </thead>\n",
       "  <tbody>\n",
       "    <tr>\n",
       "      <th>0</th>\n",
       "      <td>Corey</td>\n",
       "      <td>Schafer</td>\n",
       "      <td>coreyschafer@gmail.com</td>\n",
       "    </tr>\n",
       "    <tr>\n",
       "      <th>1</th>\n",
       "      <td>Jane</td>\n",
       "      <td>Doe</td>\n",
       "      <td>janedoe@gmail.com</td>\n",
       "    </tr>\n",
       "    <tr>\n",
       "      <th>2</th>\n",
       "      <td>John</td>\n",
       "      <td>Doe</td>\n",
       "      <td>johndoe@gmail.com</td>\n",
       "    </tr>\n",
       "  </tbody>\n",
       "</table>\n",
       "</div>"
      ],
      "text/plain": [
       "  first_name last_name                   email\n",
       "0      Corey   Schafer  coreyschafer@gmail.com\n",
       "1       Jane       Doe       janedoe@gmail.com\n",
       "2       John       Doe       johndoe@gmail.com"
      ]
     },
     "execution_count": 68,
     "metadata": {},
     "output_type": "execute_result"
    }
   ],
   "source": [
    "dfp"
   ]
  },
  {
   "cell_type": "code",
   "execution_count": null,
   "id": "b059a9f9-606c-4f37-85bd-86c94cf61219",
   "metadata": {},
   "outputs": [],
   "source": [
    "# 4 major methods for updating multiple rows:\n",
    "# apply, map, applymap, replace\n"
   ]
  },
  {
   "cell_type": "code",
   "execution_count": 71,
   "id": "ed0b0200-3063-4d96-b8db-d7df85d0b4aa",
   "metadata": {},
   "outputs": [
    {
     "data": {
      "text/plain": [
       "0    22\n",
       "1    17\n",
       "2    17\n",
       "Name: email, dtype: int64"
      ]
     },
     "execution_count": 71,
     "metadata": {},
     "output_type": "execute_result"
    }
   ],
   "source": [
    "# Apply - use in callimg functions on our values, works for both series and dataframe\n",
    "dfp['email'].apply(len) #returns the number of characters in the column email"
   ]
  },
  {
   "cell_type": "code",
   "execution_count": 73,
   "id": "9bdcb489-17b1-471a-8ce7-df41ea0546b6",
   "metadata": {},
   "outputs": [
    {
     "data": {
      "text/plain": [
       "first_name    3\n",
       "last_name     3\n",
       "email         3\n",
       "dtype: int64"
      ]
     },
     "execution_count": 73,
     "metadata": {},
     "output_type": "execute_result"
    }
   ],
   "source": [
    "dfp.apply(len) # shows the number of rows"
   ]
  },
  {
   "cell_type": "code",
   "execution_count": 75,
   "id": "b9605ff6-31f0-49fb-9526-c5ef411791e0",
   "metadata": {},
   "outputs": [
    {
     "data": {
      "text/plain": [
       "0    3\n",
       "1    3\n",
       "2    3\n",
       "dtype: int64"
      ]
     },
     "execution_count": 75,
     "metadata": {},
     "output_type": "execute_result"
    }
   ],
   "source": [
    "dfp.apply(len, axis ='columns')"
   ]
  },
  {
   "cell_type": "code",
   "execution_count": 79,
   "id": "3c2e2158-2763-468c-86a8-c98e389b50c4",
   "metadata": {},
   "outputs": [
    {
     "name": "stderr",
     "output_type": "stream",
     "text": [
      "C:\\Users\\ADMIN\\AppData\\Local\\Temp\\ipykernel_12456\\4192801787.py:1: FutureWarning: DataFrame.applymap has been deprecated. Use DataFrame.map instead.\n",
      "  dfp.applymap(len)\n"
     ]
    },
    {
     "data": {
      "text/html": [
       "<div>\n",
       "<style scoped>\n",
       "    .dataframe tbody tr th:only-of-type {\n",
       "        vertical-align: middle;\n",
       "    }\n",
       "\n",
       "    .dataframe tbody tr th {\n",
       "        vertical-align: top;\n",
       "    }\n",
       "\n",
       "    .dataframe thead th {\n",
       "        text-align: right;\n",
       "    }\n",
       "</style>\n",
       "<table border=\"1\" class=\"dataframe\">\n",
       "  <thead>\n",
       "    <tr style=\"text-align: right;\">\n",
       "      <th></th>\n",
       "      <th>first_name</th>\n",
       "      <th>last_name</th>\n",
       "      <th>email</th>\n",
       "    </tr>\n",
       "  </thead>\n",
       "  <tbody>\n",
       "    <tr>\n",
       "      <th>0</th>\n",
       "      <td>5</td>\n",
       "      <td>7</td>\n",
       "      <td>22</td>\n",
       "    </tr>\n",
       "    <tr>\n",
       "      <th>1</th>\n",
       "      <td>4</td>\n",
       "      <td>3</td>\n",
       "      <td>17</td>\n",
       "    </tr>\n",
       "    <tr>\n",
       "      <th>2</th>\n",
       "      <td>4</td>\n",
       "      <td>3</td>\n",
       "      <td>17</td>\n",
       "    </tr>\n",
       "  </tbody>\n",
       "</table>\n",
       "</div>"
      ],
      "text/plain": [
       "   first_name  last_name  email\n",
       "0           5          7     22\n",
       "1           4          3     17\n",
       "2           4          3     17"
      ]
     },
     "execution_count": 79,
     "metadata": {},
     "output_type": "execute_result"
    }
   ],
   "source": [
    "#applymap - works for the entire dataframe\n",
    "dfp.applymap(len)"
   ]
  },
  {
   "cell_type": "code",
   "execution_count": 81,
   "id": "ed53877b-4860-4337-ba3b-05ff37e3aa96",
   "metadata": {},
   "outputs": [
    {
     "name": "stderr",
     "output_type": "stream",
     "text": [
      "C:\\Users\\ADMIN\\AppData\\Local\\Temp\\ipykernel_12456\\3352421018.py:1: FutureWarning: DataFrame.applymap has been deprecated. Use DataFrame.map instead.\n",
      "  dfp.applymap(str.lower)\n"
     ]
    },
    {
     "data": {
      "text/html": [
       "<div>\n",
       "<style scoped>\n",
       "    .dataframe tbody tr th:only-of-type {\n",
       "        vertical-align: middle;\n",
       "    }\n",
       "\n",
       "    .dataframe tbody tr th {\n",
       "        vertical-align: top;\n",
       "    }\n",
       "\n",
       "    .dataframe thead th {\n",
       "        text-align: right;\n",
       "    }\n",
       "</style>\n",
       "<table border=\"1\" class=\"dataframe\">\n",
       "  <thead>\n",
       "    <tr style=\"text-align: right;\">\n",
       "      <th></th>\n",
       "      <th>first_name</th>\n",
       "      <th>last_name</th>\n",
       "      <th>email</th>\n",
       "    </tr>\n",
       "  </thead>\n",
       "  <tbody>\n",
       "    <tr>\n",
       "      <th>0</th>\n",
       "      <td>corey</td>\n",
       "      <td>schafer</td>\n",
       "      <td>coreyschafer@gmail.com</td>\n",
       "    </tr>\n",
       "    <tr>\n",
       "      <th>1</th>\n",
       "      <td>jane</td>\n",
       "      <td>doe</td>\n",
       "      <td>janedoe@gmail.com</td>\n",
       "    </tr>\n",
       "    <tr>\n",
       "      <th>2</th>\n",
       "      <td>john</td>\n",
       "      <td>doe</td>\n",
       "      <td>johndoe@gmail.com</td>\n",
       "    </tr>\n",
       "  </tbody>\n",
       "</table>\n",
       "</div>"
      ],
      "text/plain": [
       "  first_name last_name                   email\n",
       "0      corey   schafer  coreyschafer@gmail.com\n",
       "1       jane       doe       janedoe@gmail.com\n",
       "2       john       doe       johndoe@gmail.com"
      ]
     },
     "execution_count": 81,
     "metadata": {},
     "output_type": "execute_result"
    }
   ],
   "source": [
    "dfp.applymap(str.lower)"
   ]
  },
  {
   "cell_type": "code",
   "execution_count": 84,
   "id": "382a750c-283e-45ce-9385-fa85c299d625",
   "metadata": {},
   "outputs": [
    {
     "data": {
      "text/plain": [
       "0    Chris\n",
       "1     Mary\n",
       "2     John\n",
       "Name: first_name, dtype: object"
      ]
     },
     "execution_count": 84,
     "metadata": {},
     "output_type": "execute_result"
    }
   ],
   "source": [
    "# replace\n",
    "dfp['first_name'].replace({'Corey': 'Chris', 'Jane': 'Mary'})\n",
    "# to implement that into the dataframe then we add  dfp['first_name'] = before the code"
   ]
  },
  {
   "cell_type": "code",
   "execution_count": 10,
   "id": "2a473a72-b2d8-4d9d-8644-d5571076c333",
   "metadata": {},
   "outputs": [],
   "source": [
    "import pandas as pd"
   ]
  },
  {
   "cell_type": "code",
   "execution_count": 14,
   "id": "f2413c51-b21a-4dac-bbbd-42095d87dc4d",
   "metadata": {},
   "outputs": [],
   "source": [
    "d = pd.read_csv(r\"C:\\Users\\ADMIN\\Desktop\\Sage's PowerBI BootCamp\\Customers.csv\")"
   ]
  },
  {
   "cell_type": "code",
   "execution_count": 15,
   "id": "ef98c291-7c9c-4e75-ba08-8c4ae59f6255",
   "metadata": {},
   "outputs": [
    {
     "data": {
      "text/html": [
       "<div>\n",
       "<style scoped>\n",
       "    .dataframe tbody tr th:only-of-type {\n",
       "        vertical-align: middle;\n",
       "    }\n",
       "\n",
       "    .dataframe tbody tr th {\n",
       "        vertical-align: top;\n",
       "    }\n",
       "\n",
       "    .dataframe thead th {\n",
       "        text-align: right;\n",
       "    }\n",
       "</style>\n",
       "<table border=\"1\" class=\"dataframe\">\n",
       "  <thead>\n",
       "    <tr style=\"text-align: right;\">\n",
       "      <th></th>\n",
       "      <th>CustomerKey</th>\n",
       "      <th>Prefix</th>\n",
       "      <th>FirstName</th>\n",
       "      <th>LastName</th>\n",
       "      <th>Unnamed: 4</th>\n",
       "      <th>Unnamed: 5</th>\n",
       "      <th>Unnamed: 6</th>\n",
       "      <th>BirthDate</th>\n",
       "      <th>Unnamed: 8</th>\n",
       "      <th>MaritalStatus</th>\n",
       "      <th>Gender</th>\n",
       "      <th>EmailAddress</th>\n",
       "      <th>AnnualIncome</th>\n",
       "      <th>TotalChildren</th>\n",
       "      <th>EducationLevel</th>\n",
       "      <th>Occupation</th>\n",
       "      <th>HomeOwner</th>\n",
       "      <th>Unnamed: 17</th>\n",
       "      <th>Unnamed: 18</th>\n",
       "      <th>BirthDate.1</th>\n",
       "    </tr>\n",
       "  </thead>\n",
       "  <tbody>\n",
       "    <tr>\n",
       "      <th>0</th>\n",
       "      <td>11000</td>\n",
       "      <td>MR.</td>\n",
       "      <td>JON</td>\n",
       "      <td>YANG</td>\n",
       "      <td>MR. JON YANG</td>\n",
       "      <td>YANG</td>\n",
       "      <td>YANG</td>\n",
       "      <td>4/8/1966</td>\n",
       "      <td>NaN</td>\n",
       "      <td>M</td>\n",
       "      <td>M</td>\n",
       "      <td>jon24@learnsector.com</td>\n",
       "      <td>$90,000</td>\n",
       "      <td>2</td>\n",
       "      <td>Bachelors</td>\n",
       "      <td>Professional</td>\n",
       "      <td>Y</td>\n",
       "      <td>NaN</td>\n",
       "      <td>NaN</td>\n",
       "      <td>14-05-1965</td>\n",
       "    </tr>\n",
       "    <tr>\n",
       "      <th>1</th>\n",
       "      <td>11001</td>\n",
       "      <td>MR.</td>\n",
       "      <td>EUGENE</td>\n",
       "      <td>HUANG</td>\n",
       "      <td>MR. EUGENE HUANG</td>\n",
       "      <td>HUANG</td>\n",
       "      <td>HUANG</td>\n",
       "      <td>14/05/1965</td>\n",
       "      <td>NaN</td>\n",
       "      <td>S</td>\n",
       "      <td>M</td>\n",
       "      <td>eugene10@learnsector.com</td>\n",
       "      <td>$60,000</td>\n",
       "      <td>3</td>\n",
       "      <td>Bachelors</td>\n",
       "      <td>Professional</td>\n",
       "      <td>N</td>\n",
       "      <td>NaN</td>\n",
       "      <td>NaN</td>\n",
       "      <td>15-02-1968</td>\n",
       "    </tr>\n",
       "    <tr>\n",
       "      <th>2</th>\n",
       "      <td>11002</td>\n",
       "      <td>MR.</td>\n",
       "      <td>RUBEN</td>\n",
       "      <td>TORRES</td>\n",
       "      <td>MR. RUBEN TORRES</td>\n",
       "      <td>TORRES</td>\n",
       "      <td>TORRES</td>\n",
       "      <td>8/12/1965</td>\n",
       "      <td>NaN</td>\n",
       "      <td>M</td>\n",
       "      <td>M</td>\n",
       "      <td>ruben35@learnsector.com</td>\n",
       "      <td>$60,000</td>\n",
       "      <td>3</td>\n",
       "      <td>Bachelors</td>\n",
       "      <td>Professional</td>\n",
       "      <td>Y</td>\n",
       "      <td>NaN</td>\n",
       "      <td>NaN</td>\n",
       "      <td>NaN</td>\n",
       "    </tr>\n",
       "    <tr>\n",
       "      <th>3</th>\n",
       "      <td>11003</td>\n",
       "      <td>MS.</td>\n",
       "      <td>CHRISTY</td>\n",
       "      <td>ZHU</td>\n",
       "      <td>MS. CHRISTY ZHU</td>\n",
       "      <td>ZHU</td>\n",
       "      <td>ZHU</td>\n",
       "      <td>15/02/1968</td>\n",
       "      <td>NaN</td>\n",
       "      <td>S</td>\n",
       "      <td>F</td>\n",
       "      <td>christy12@learnsector.com</td>\n",
       "      <td>$70,000</td>\n",
       "      <td>0</td>\n",
       "      <td>Bachelors</td>\n",
       "      <td>Professional</td>\n",
       "      <td>N</td>\n",
       "      <td>NaN</td>\n",
       "      <td>NaN</td>\n",
       "      <td>NaN</td>\n",
       "    </tr>\n",
       "    <tr>\n",
       "      <th>4</th>\n",
       "      <td>11004</td>\n",
       "      <td>MRS.</td>\n",
       "      <td>ELIZABETH</td>\n",
       "      <td>JOHNSON</td>\n",
       "      <td>MRS. ELIZABETH JOHNSON</td>\n",
       "      <td>JOHNSON</td>\n",
       "      <td>JOHNSON</td>\n",
       "      <td>8/8/1968</td>\n",
       "      <td>NaN</td>\n",
       "      <td>S</td>\n",
       "      <td>F</td>\n",
       "      <td>elizabeth5@learnsector.com</td>\n",
       "      <td>$80,000</td>\n",
       "      <td>5</td>\n",
       "      <td>Bachelors</td>\n",
       "      <td>Professional</td>\n",
       "      <td>Y</td>\n",
       "      <td>NaN</td>\n",
       "      <td>NaN</td>\n",
       "      <td>NaN</td>\n",
       "    </tr>\n",
       "  </tbody>\n",
       "</table>\n",
       "</div>"
      ],
      "text/plain": [
       "   CustomerKey Prefix  FirstName LastName              Unnamed: 4 Unnamed: 5  \\\n",
       "0        11000    MR.        JON     YANG            MR. JON YANG       YANG   \n",
       "1        11001    MR.     EUGENE    HUANG        MR. EUGENE HUANG      HUANG   \n",
       "2        11002    MR.      RUBEN   TORRES        MR. RUBEN TORRES     TORRES   \n",
       "3        11003    MS.    CHRISTY      ZHU         MS. CHRISTY ZHU        ZHU   \n",
       "4        11004   MRS.  ELIZABETH  JOHNSON  MRS. ELIZABETH JOHNSON    JOHNSON   \n",
       "\n",
       "  Unnamed: 6   BirthDate  Unnamed: 8 MaritalStatus Gender  \\\n",
       "0       YANG    4/8/1966         NaN             M      M   \n",
       "1      HUANG  14/05/1965         NaN             S      M   \n",
       "2     TORRES   8/12/1965         NaN             M      M   \n",
       "3        ZHU  15/02/1968         NaN             S      F   \n",
       "4    JOHNSON    8/8/1968         NaN             S      F   \n",
       "\n",
       "                 EmailAddress AnnualIncome  TotalChildren EducationLevel  \\\n",
       "0       jon24@learnsector.com     $90,000               2      Bachelors   \n",
       "1    eugene10@learnsector.com     $60,000               3      Bachelors   \n",
       "2     ruben35@learnsector.com     $60,000               3      Bachelors   \n",
       "3   christy12@learnsector.com     $70,000               0      Bachelors   \n",
       "4  elizabeth5@learnsector.com     $80,000               5      Bachelors   \n",
       "\n",
       "     Occupation HomeOwner  Unnamed: 17  Unnamed: 18 BirthDate.1  \n",
       "0  Professional         Y          NaN          NaN  14-05-1965  \n",
       "1  Professional         N          NaN          NaN  15-02-1968  \n",
       "2  Professional         Y          NaN          NaN         NaN  \n",
       "3  Professional         N          NaN          NaN         NaN  \n",
       "4  Professional         Y          NaN          NaN         NaN  "
      ]
     },
     "execution_count": 15,
     "metadata": {},
     "output_type": "execute_result"
    }
   ],
   "source": [
    "d.head()"
   ]
  },
  {
   "cell_type": "code",
   "execution_count": 16,
   "id": "6a47b95e-868d-431c-a95d-b4babb2bfe26",
   "metadata": {},
   "outputs": [
    {
     "data": {
      "text/plain": [
       "Index(['CustomerKey', 'Prefix', 'FirstName', 'LastName', 'Unnamed: 4',\n",
       "       'Unnamed: 5', 'Unnamed: 6', 'BirthDate', 'Unnamed: 8', 'MaritalStatus',\n",
       "       'Gender', 'EmailAddress', 'AnnualIncome', 'TotalChildren',\n",
       "       'EducationLevel', 'Occupation', 'HomeOwner', 'Unnamed: 17',\n",
       "       'Unnamed: 18', 'BirthDate.1'],\n",
       "      dtype='object')"
      ]
     },
     "execution_count": 16,
     "metadata": {},
     "output_type": "execute_result"
    }
   ],
   "source": [
    "d.columns"
   ]
  },
  {
   "cell_type": "code",
   "execution_count": 20,
   "id": "7a9f41dc-9e0a-44cd-891c-905643d036f5",
   "metadata": {},
   "outputs": [],
   "source": [
    "remove = ['Unnamed: 18','Unnamed: 8','Unnamed: 4','Unnamed: 5', 'Unnamed: 6','Unnamed: 17','BirthDate.1']"
   ]
  },
  {
   "cell_type": "code",
   "execution_count": 21,
   "id": "beb0a4f5-8360-4de3-9479-8b13c3f0830c",
   "metadata": {},
   "outputs": [],
   "source": [
    "d.drop(remove, axis = 1, inplace = True)"
   ]
  },
  {
   "cell_type": "code",
   "execution_count": 23,
   "id": "6d459be2-6f12-4a95-8a22-a3c2aff8a844",
   "metadata": {},
   "outputs": [
    {
     "data": {
      "text/html": [
       "<div>\n",
       "<style scoped>\n",
       "    .dataframe tbody tr th:only-of-type {\n",
       "        vertical-align: middle;\n",
       "    }\n",
       "\n",
       "    .dataframe tbody tr th {\n",
       "        vertical-align: top;\n",
       "    }\n",
       "\n",
       "    .dataframe thead th {\n",
       "        text-align: right;\n",
       "    }\n",
       "</style>\n",
       "<table border=\"1\" class=\"dataframe\">\n",
       "  <thead>\n",
       "    <tr style=\"text-align: right;\">\n",
       "      <th></th>\n",
       "      <th>CustomerKey</th>\n",
       "      <th>Prefix</th>\n",
       "      <th>FirstName</th>\n",
       "      <th>LastName</th>\n",
       "      <th>BirthDate</th>\n",
       "      <th>MaritalStatus</th>\n",
       "      <th>Gender</th>\n",
       "      <th>EmailAddress</th>\n",
       "      <th>AnnualIncome</th>\n",
       "      <th>TotalChildren</th>\n",
       "      <th>EducationLevel</th>\n",
       "      <th>Occupation</th>\n",
       "      <th>HomeOwner</th>\n",
       "    </tr>\n",
       "  </thead>\n",
       "  <tbody>\n",
       "    <tr>\n",
       "      <th>0</th>\n",
       "      <td>11000</td>\n",
       "      <td>MR.</td>\n",
       "      <td>JON</td>\n",
       "      <td>YANG</td>\n",
       "      <td>4/8/1966</td>\n",
       "      <td>M</td>\n",
       "      <td>M</td>\n",
       "      <td>jon24@learnsector.com</td>\n",
       "      <td>$90,000</td>\n",
       "      <td>2</td>\n",
       "      <td>Bachelors</td>\n",
       "      <td>Professional</td>\n",
       "      <td>Y</td>\n",
       "    </tr>\n",
       "    <tr>\n",
       "      <th>1</th>\n",
       "      <td>11001</td>\n",
       "      <td>MR.</td>\n",
       "      <td>EUGENE</td>\n",
       "      <td>HUANG</td>\n",
       "      <td>14/05/1965</td>\n",
       "      <td>S</td>\n",
       "      <td>M</td>\n",
       "      <td>eugene10@learnsector.com</td>\n",
       "      <td>$60,000</td>\n",
       "      <td>3</td>\n",
       "      <td>Bachelors</td>\n",
       "      <td>Professional</td>\n",
       "      <td>N</td>\n",
       "    </tr>\n",
       "    <tr>\n",
       "      <th>2</th>\n",
       "      <td>11002</td>\n",
       "      <td>MR.</td>\n",
       "      <td>RUBEN</td>\n",
       "      <td>TORRES</td>\n",
       "      <td>8/12/1965</td>\n",
       "      <td>M</td>\n",
       "      <td>M</td>\n",
       "      <td>ruben35@learnsector.com</td>\n",
       "      <td>$60,000</td>\n",
       "      <td>3</td>\n",
       "      <td>Bachelors</td>\n",
       "      <td>Professional</td>\n",
       "      <td>Y</td>\n",
       "    </tr>\n",
       "    <tr>\n",
       "      <th>3</th>\n",
       "      <td>11003</td>\n",
       "      <td>MS.</td>\n",
       "      <td>CHRISTY</td>\n",
       "      <td>ZHU</td>\n",
       "      <td>15/02/1968</td>\n",
       "      <td>S</td>\n",
       "      <td>F</td>\n",
       "      <td>christy12@learnsector.com</td>\n",
       "      <td>$70,000</td>\n",
       "      <td>0</td>\n",
       "      <td>Bachelors</td>\n",
       "      <td>Professional</td>\n",
       "      <td>N</td>\n",
       "    </tr>\n",
       "    <tr>\n",
       "      <th>4</th>\n",
       "      <td>11004</td>\n",
       "      <td>MRS.</td>\n",
       "      <td>ELIZABETH</td>\n",
       "      <td>JOHNSON</td>\n",
       "      <td>8/8/1968</td>\n",
       "      <td>S</td>\n",
       "      <td>F</td>\n",
       "      <td>elizabeth5@learnsector.com</td>\n",
       "      <td>$80,000</td>\n",
       "      <td>5</td>\n",
       "      <td>Bachelors</td>\n",
       "      <td>Professional</td>\n",
       "      <td>Y</td>\n",
       "    </tr>\n",
       "  </tbody>\n",
       "</table>\n",
       "</div>"
      ],
      "text/plain": [
       "   CustomerKey Prefix  FirstName LastName   BirthDate MaritalStatus Gender  \\\n",
       "0        11000    MR.        JON     YANG    4/8/1966             M      M   \n",
       "1        11001    MR.     EUGENE    HUANG  14/05/1965             S      M   \n",
       "2        11002    MR.      RUBEN   TORRES   8/12/1965             M      M   \n",
       "3        11003    MS.    CHRISTY      ZHU  15/02/1968             S      F   \n",
       "4        11004   MRS.  ELIZABETH  JOHNSON    8/8/1968             S      F   \n",
       "\n",
       "                 EmailAddress AnnualIncome  TotalChildren EducationLevel  \\\n",
       "0       jon24@learnsector.com     $90,000               2      Bachelors   \n",
       "1    eugene10@learnsector.com     $60,000               3      Bachelors   \n",
       "2     ruben35@learnsector.com     $60,000               3      Bachelors   \n",
       "3   christy12@learnsector.com     $70,000               0      Bachelors   \n",
       "4  elizabeth5@learnsector.com     $80,000               5      Bachelors   \n",
       "\n",
       "     Occupation HomeOwner  \n",
       "0  Professional         Y  \n",
       "1  Professional         N  \n",
       "2  Professional         Y  \n",
       "3  Professional         N  \n",
       "4  Professional         Y  "
      ]
     },
     "execution_count": 23,
     "metadata": {},
     "output_type": "execute_result"
    }
   ],
   "source": [
    "d.head()"
   ]
  },
  {
   "cell_type": "code",
   "execution_count": 32,
   "id": "14789987-35d2-4b17-be7e-b70af69e046a",
   "metadata": {},
   "outputs": [],
   "source": [
    "d[\"Full Name\"] = d.Prefix + \" \" + d.FirstName + \" \" + d.LastName\t"
   ]
  },
  {
   "cell_type": "code",
   "execution_count": 33,
   "id": "4fb3fbb5-708e-43bd-badf-db96e82d4d24",
   "metadata": {},
   "outputs": [
    {
     "data": {
      "text/html": [
       "<div>\n",
       "<style scoped>\n",
       "    .dataframe tbody tr th:only-of-type {\n",
       "        vertical-align: middle;\n",
       "    }\n",
       "\n",
       "    .dataframe tbody tr th {\n",
       "        vertical-align: top;\n",
       "    }\n",
       "\n",
       "    .dataframe thead th {\n",
       "        text-align: right;\n",
       "    }\n",
       "</style>\n",
       "<table border=\"1\" class=\"dataframe\">\n",
       "  <thead>\n",
       "    <tr style=\"text-align: right;\">\n",
       "      <th></th>\n",
       "      <th>CustomerKey</th>\n",
       "      <th>Prefix</th>\n",
       "      <th>FirstName</th>\n",
       "      <th>LastName</th>\n",
       "      <th>BirthDate</th>\n",
       "      <th>MaritalStatus</th>\n",
       "      <th>Gender</th>\n",
       "      <th>EmailAddress</th>\n",
       "      <th>AnnualIncome</th>\n",
       "      <th>TotalChildren</th>\n",
       "      <th>EducationLevel</th>\n",
       "      <th>Occupation</th>\n",
       "      <th>HomeOwner</th>\n",
       "      <th>Full Name</th>\n",
       "    </tr>\n",
       "  </thead>\n",
       "  <tbody>\n",
       "    <tr>\n",
       "      <th>0</th>\n",
       "      <td>11000</td>\n",
       "      <td>MR.</td>\n",
       "      <td>JON</td>\n",
       "      <td>YANG</td>\n",
       "      <td>4/8/1966</td>\n",
       "      <td>M</td>\n",
       "      <td>M</td>\n",
       "      <td>jon24@learnsector.com</td>\n",
       "      <td>$90,000</td>\n",
       "      <td>2</td>\n",
       "      <td>Bachelors</td>\n",
       "      <td>Professional</td>\n",
       "      <td>Y</td>\n",
       "      <td>MR. JON YANG</td>\n",
       "    </tr>\n",
       "    <tr>\n",
       "      <th>1</th>\n",
       "      <td>11001</td>\n",
       "      <td>MR.</td>\n",
       "      <td>EUGENE</td>\n",
       "      <td>HUANG</td>\n",
       "      <td>14/05/1965</td>\n",
       "      <td>S</td>\n",
       "      <td>M</td>\n",
       "      <td>eugene10@learnsector.com</td>\n",
       "      <td>$60,000</td>\n",
       "      <td>3</td>\n",
       "      <td>Bachelors</td>\n",
       "      <td>Professional</td>\n",
       "      <td>N</td>\n",
       "      <td>MR. EUGENE HUANG</td>\n",
       "    </tr>\n",
       "    <tr>\n",
       "      <th>2</th>\n",
       "      <td>11002</td>\n",
       "      <td>MR.</td>\n",
       "      <td>RUBEN</td>\n",
       "      <td>TORRES</td>\n",
       "      <td>8/12/1965</td>\n",
       "      <td>M</td>\n",
       "      <td>M</td>\n",
       "      <td>ruben35@learnsector.com</td>\n",
       "      <td>$60,000</td>\n",
       "      <td>3</td>\n",
       "      <td>Bachelors</td>\n",
       "      <td>Professional</td>\n",
       "      <td>Y</td>\n",
       "      <td>MR. RUBEN TORRES</td>\n",
       "    </tr>\n",
       "    <tr>\n",
       "      <th>3</th>\n",
       "      <td>11003</td>\n",
       "      <td>MS.</td>\n",
       "      <td>CHRISTY</td>\n",
       "      <td>ZHU</td>\n",
       "      <td>15/02/1968</td>\n",
       "      <td>S</td>\n",
       "      <td>F</td>\n",
       "      <td>christy12@learnsector.com</td>\n",
       "      <td>$70,000</td>\n",
       "      <td>0</td>\n",
       "      <td>Bachelors</td>\n",
       "      <td>Professional</td>\n",
       "      <td>N</td>\n",
       "      <td>MS. CHRISTY ZHU</td>\n",
       "    </tr>\n",
       "    <tr>\n",
       "      <th>4</th>\n",
       "      <td>11004</td>\n",
       "      <td>MRS.</td>\n",
       "      <td>ELIZABETH</td>\n",
       "      <td>JOHNSON</td>\n",
       "      <td>8/8/1968</td>\n",
       "      <td>S</td>\n",
       "      <td>F</td>\n",
       "      <td>elizabeth5@learnsector.com</td>\n",
       "      <td>$80,000</td>\n",
       "      <td>5</td>\n",
       "      <td>Bachelors</td>\n",
       "      <td>Professional</td>\n",
       "      <td>Y</td>\n",
       "      <td>MRS. ELIZABETH JOHNSON</td>\n",
       "    </tr>\n",
       "  </tbody>\n",
       "</table>\n",
       "</div>"
      ],
      "text/plain": [
       "   CustomerKey Prefix  FirstName LastName   BirthDate MaritalStatus Gender  \\\n",
       "0        11000    MR.        JON     YANG    4/8/1966             M      M   \n",
       "1        11001    MR.     EUGENE    HUANG  14/05/1965             S      M   \n",
       "2        11002    MR.      RUBEN   TORRES   8/12/1965             M      M   \n",
       "3        11003    MS.    CHRISTY      ZHU  15/02/1968             S      F   \n",
       "4        11004   MRS.  ELIZABETH  JOHNSON    8/8/1968             S      F   \n",
       "\n",
       "                 EmailAddress AnnualIncome  TotalChildren EducationLevel  \\\n",
       "0       jon24@learnsector.com     $90,000               2      Bachelors   \n",
       "1    eugene10@learnsector.com     $60,000               3      Bachelors   \n",
       "2     ruben35@learnsector.com     $60,000               3      Bachelors   \n",
       "3   christy12@learnsector.com     $70,000               0      Bachelors   \n",
       "4  elizabeth5@learnsector.com     $80,000               5      Bachelors   \n",
       "\n",
       "     Occupation HomeOwner               Full Name  \n",
       "0  Professional         Y            MR. JON YANG  \n",
       "1  Professional         N        MR. EUGENE HUANG  \n",
       "2  Professional         Y        MR. RUBEN TORRES  \n",
       "3  Professional         N         MS. CHRISTY ZHU  \n",
       "4  Professional         Y  MRS. ELIZABETH JOHNSON  "
      ]
     },
     "execution_count": 33,
     "metadata": {},
     "output_type": "execute_result"
    }
   ],
   "source": [
    "d.head()"
   ]
  },
  {
   "cell_type": "code",
   "execution_count": 35,
   "id": "540645e5-1d06-4643-8744-71a0871f3725",
   "metadata": {},
   "outputs": [],
   "source": [
    "d.drop(['Prefix',\t'FirstName',\t'LastName'], axis =\t1, inplace = True)"
   ]
  },
  {
   "cell_type": "code",
   "execution_count": 36,
   "id": "c0a7c608-cda6-4d86-9ef0-bc1b60548c3d",
   "metadata": {},
   "outputs": [
    {
     "data": {
      "text/html": [
       "<div>\n",
       "<style scoped>\n",
       "    .dataframe tbody tr th:only-of-type {\n",
       "        vertical-align: middle;\n",
       "    }\n",
       "\n",
       "    .dataframe tbody tr th {\n",
       "        vertical-align: top;\n",
       "    }\n",
       "\n",
       "    .dataframe thead th {\n",
       "        text-align: right;\n",
       "    }\n",
       "</style>\n",
       "<table border=\"1\" class=\"dataframe\">\n",
       "  <thead>\n",
       "    <tr style=\"text-align: right;\">\n",
       "      <th></th>\n",
       "      <th>CustomerKey</th>\n",
       "      <th>BirthDate</th>\n",
       "      <th>MaritalStatus</th>\n",
       "      <th>Gender</th>\n",
       "      <th>EmailAddress</th>\n",
       "      <th>AnnualIncome</th>\n",
       "      <th>TotalChildren</th>\n",
       "      <th>EducationLevel</th>\n",
       "      <th>Occupation</th>\n",
       "      <th>HomeOwner</th>\n",
       "      <th>Full Name</th>\n",
       "    </tr>\n",
       "  </thead>\n",
       "  <tbody>\n",
       "    <tr>\n",
       "      <th>0</th>\n",
       "      <td>11000</td>\n",
       "      <td>4/8/1966</td>\n",
       "      <td>M</td>\n",
       "      <td>M</td>\n",
       "      <td>jon24@learnsector.com</td>\n",
       "      <td>$90,000</td>\n",
       "      <td>2</td>\n",
       "      <td>Bachelors</td>\n",
       "      <td>Professional</td>\n",
       "      <td>Y</td>\n",
       "      <td>MR. JON YANG</td>\n",
       "    </tr>\n",
       "    <tr>\n",
       "      <th>1</th>\n",
       "      <td>11001</td>\n",
       "      <td>14/05/1965</td>\n",
       "      <td>S</td>\n",
       "      <td>M</td>\n",
       "      <td>eugene10@learnsector.com</td>\n",
       "      <td>$60,000</td>\n",
       "      <td>3</td>\n",
       "      <td>Bachelors</td>\n",
       "      <td>Professional</td>\n",
       "      <td>N</td>\n",
       "      <td>MR. EUGENE HUANG</td>\n",
       "    </tr>\n",
       "    <tr>\n",
       "      <th>2</th>\n",
       "      <td>11002</td>\n",
       "      <td>8/12/1965</td>\n",
       "      <td>M</td>\n",
       "      <td>M</td>\n",
       "      <td>ruben35@learnsector.com</td>\n",
       "      <td>$60,000</td>\n",
       "      <td>3</td>\n",
       "      <td>Bachelors</td>\n",
       "      <td>Professional</td>\n",
       "      <td>Y</td>\n",
       "      <td>MR. RUBEN TORRES</td>\n",
       "    </tr>\n",
       "    <tr>\n",
       "      <th>3</th>\n",
       "      <td>11003</td>\n",
       "      <td>15/02/1968</td>\n",
       "      <td>S</td>\n",
       "      <td>F</td>\n",
       "      <td>christy12@learnsector.com</td>\n",
       "      <td>$70,000</td>\n",
       "      <td>0</td>\n",
       "      <td>Bachelors</td>\n",
       "      <td>Professional</td>\n",
       "      <td>N</td>\n",
       "      <td>MS. CHRISTY ZHU</td>\n",
       "    </tr>\n",
       "    <tr>\n",
       "      <th>4</th>\n",
       "      <td>11004</td>\n",
       "      <td>8/8/1968</td>\n",
       "      <td>S</td>\n",
       "      <td>F</td>\n",
       "      <td>elizabeth5@learnsector.com</td>\n",
       "      <td>$80,000</td>\n",
       "      <td>5</td>\n",
       "      <td>Bachelors</td>\n",
       "      <td>Professional</td>\n",
       "      <td>Y</td>\n",
       "      <td>MRS. ELIZABETH JOHNSON</td>\n",
       "    </tr>\n",
       "  </tbody>\n",
       "</table>\n",
       "</div>"
      ],
      "text/plain": [
       "   CustomerKey   BirthDate MaritalStatus Gender                EmailAddress  \\\n",
       "0        11000    4/8/1966             M      M       jon24@learnsector.com   \n",
       "1        11001  14/05/1965             S      M    eugene10@learnsector.com   \n",
       "2        11002   8/12/1965             M      M     ruben35@learnsector.com   \n",
       "3        11003  15/02/1968             S      F   christy12@learnsector.com   \n",
       "4        11004    8/8/1968             S      F  elizabeth5@learnsector.com   \n",
       "\n",
       "  AnnualIncome  TotalChildren EducationLevel    Occupation HomeOwner  \\\n",
       "0     $90,000               2      Bachelors  Professional         Y   \n",
       "1     $60,000               3      Bachelors  Professional         N   \n",
       "2     $60,000               3      Bachelors  Professional         Y   \n",
       "3     $70,000               0      Bachelors  Professional         N   \n",
       "4     $80,000               5      Bachelors  Professional         Y   \n",
       "\n",
       "                Full Name  \n",
       "0            MR. JON YANG  \n",
       "1        MR. EUGENE HUANG  \n",
       "2        MR. RUBEN TORRES  \n",
       "3         MS. CHRISTY ZHU  \n",
       "4  MRS. ELIZABETH JOHNSON  "
      ]
     },
     "execution_count": 36,
     "metadata": {},
     "output_type": "execute_result"
    }
   ],
   "source": [
    "d.head()"
   ]
  },
  {
   "cell_type": "code",
   "execution_count": 37,
   "id": "57b84db6-0e9b-4ee8-8485-36abc5f70b24",
   "metadata": {},
   "outputs": [],
   "source": [
    "d[\"Full Name\"] = d[\"Full Name\"].values"
   ]
  },
  {
   "cell_type": "code",
   "execution_count": 38,
   "id": "d86034bc-1d97-4700-b664-760761b84975",
   "metadata": {},
   "outputs": [
    {
     "data": {
      "text/html": [
       "<div>\n",
       "<style scoped>\n",
       "    .dataframe tbody tr th:only-of-type {\n",
       "        vertical-align: middle;\n",
       "    }\n",
       "\n",
       "    .dataframe tbody tr th {\n",
       "        vertical-align: top;\n",
       "    }\n",
       "\n",
       "    .dataframe thead th {\n",
       "        text-align: right;\n",
       "    }\n",
       "</style>\n",
       "<table border=\"1\" class=\"dataframe\">\n",
       "  <thead>\n",
       "    <tr style=\"text-align: right;\">\n",
       "      <th></th>\n",
       "      <th>CustomerKey</th>\n",
       "      <th>BirthDate</th>\n",
       "      <th>MaritalStatus</th>\n",
       "      <th>Gender</th>\n",
       "      <th>EmailAddress</th>\n",
       "      <th>AnnualIncome</th>\n",
       "      <th>TotalChildren</th>\n",
       "      <th>EducationLevel</th>\n",
       "      <th>Occupation</th>\n",
       "      <th>HomeOwner</th>\n",
       "      <th>Full Name</th>\n",
       "    </tr>\n",
       "  </thead>\n",
       "  <tbody>\n",
       "    <tr>\n",
       "      <th>0</th>\n",
       "      <td>11000</td>\n",
       "      <td>4/8/1966</td>\n",
       "      <td>M</td>\n",
       "      <td>M</td>\n",
       "      <td>jon24@learnsector.com</td>\n",
       "      <td>$90,000</td>\n",
       "      <td>2</td>\n",
       "      <td>Bachelors</td>\n",
       "      <td>Professional</td>\n",
       "      <td>Y</td>\n",
       "      <td>MR. JON YANG</td>\n",
       "    </tr>\n",
       "    <tr>\n",
       "      <th>1</th>\n",
       "      <td>11001</td>\n",
       "      <td>14/05/1965</td>\n",
       "      <td>S</td>\n",
       "      <td>M</td>\n",
       "      <td>eugene10@learnsector.com</td>\n",
       "      <td>$60,000</td>\n",
       "      <td>3</td>\n",
       "      <td>Bachelors</td>\n",
       "      <td>Professional</td>\n",
       "      <td>N</td>\n",
       "      <td>MR. EUGENE HUANG</td>\n",
       "    </tr>\n",
       "    <tr>\n",
       "      <th>2</th>\n",
       "      <td>11002</td>\n",
       "      <td>8/12/1965</td>\n",
       "      <td>M</td>\n",
       "      <td>M</td>\n",
       "      <td>ruben35@learnsector.com</td>\n",
       "      <td>$60,000</td>\n",
       "      <td>3</td>\n",
       "      <td>Bachelors</td>\n",
       "      <td>Professional</td>\n",
       "      <td>Y</td>\n",
       "      <td>MR. RUBEN TORRES</td>\n",
       "    </tr>\n",
       "    <tr>\n",
       "      <th>3</th>\n",
       "      <td>11003</td>\n",
       "      <td>15/02/1968</td>\n",
       "      <td>S</td>\n",
       "      <td>F</td>\n",
       "      <td>christy12@learnsector.com</td>\n",
       "      <td>$70,000</td>\n",
       "      <td>0</td>\n",
       "      <td>Bachelors</td>\n",
       "      <td>Professional</td>\n",
       "      <td>N</td>\n",
       "      <td>MS. CHRISTY ZHU</td>\n",
       "    </tr>\n",
       "    <tr>\n",
       "      <th>4</th>\n",
       "      <td>11004</td>\n",
       "      <td>8/8/1968</td>\n",
       "      <td>S</td>\n",
       "      <td>F</td>\n",
       "      <td>elizabeth5@learnsector.com</td>\n",
       "      <td>$80,000</td>\n",
       "      <td>5</td>\n",
       "      <td>Bachelors</td>\n",
       "      <td>Professional</td>\n",
       "      <td>Y</td>\n",
       "      <td>MRS. ELIZABETH JOHNSON</td>\n",
       "    </tr>\n",
       "  </tbody>\n",
       "</table>\n",
       "</div>"
      ],
      "text/plain": [
       "   CustomerKey   BirthDate MaritalStatus Gender                EmailAddress  \\\n",
       "0        11000    4/8/1966             M      M       jon24@learnsector.com   \n",
       "1        11001  14/05/1965             S      M    eugene10@learnsector.com   \n",
       "2        11002   8/12/1965             M      M     ruben35@learnsector.com   \n",
       "3        11003  15/02/1968             S      F   christy12@learnsector.com   \n",
       "4        11004    8/8/1968             S      F  elizabeth5@learnsector.com   \n",
       "\n",
       "  AnnualIncome  TotalChildren EducationLevel    Occupation HomeOwner  \\\n",
       "0     $90,000               2      Bachelors  Professional         Y   \n",
       "1     $60,000               3      Bachelors  Professional         N   \n",
       "2     $60,000               3      Bachelors  Professional         Y   \n",
       "3     $70,000               0      Bachelors  Professional         N   \n",
       "4     $80,000               5      Bachelors  Professional         Y   \n",
       "\n",
       "                Full Name  \n",
       "0            MR. JON YANG  \n",
       "1        MR. EUGENE HUANG  \n",
       "2        MR. RUBEN TORRES  \n",
       "3         MS. CHRISTY ZHU  \n",
       "4  MRS. ELIZABETH JOHNSON  "
      ]
     },
     "execution_count": 38,
     "metadata": {},
     "output_type": "execute_result"
    }
   ],
   "source": [
    "d.head()"
   ]
  },
  {
   "cell_type": "code",
   "execution_count": 41,
   "id": "be5c1347-1ac1-4adb-9bfd-8f612d1322c6",
   "metadata": {},
   "outputs": [],
   "source": [
    "new = d.loc[:, ['CustomerKey','Full Name', 'BirthDate', 'MaritalStatus', 'Gender', 'EmailAddress',\n",
    "       'AnnualIncome', 'TotalChildren', 'EducationLevel', 'Occupation',\n",
    "       'HomeOwner']]"
   ]
  },
  {
   "cell_type": "code",
   "execution_count": 42,
   "id": "7cf5c8b4-4e5f-4f58-a14a-c141689bd5b1",
   "metadata": {},
   "outputs": [
    {
     "data": {
      "text/html": [
       "<div>\n",
       "<style scoped>\n",
       "    .dataframe tbody tr th:only-of-type {\n",
       "        vertical-align: middle;\n",
       "    }\n",
       "\n",
       "    .dataframe tbody tr th {\n",
       "        vertical-align: top;\n",
       "    }\n",
       "\n",
       "    .dataframe thead th {\n",
       "        text-align: right;\n",
       "    }\n",
       "</style>\n",
       "<table border=\"1\" class=\"dataframe\">\n",
       "  <thead>\n",
       "    <tr style=\"text-align: right;\">\n",
       "      <th></th>\n",
       "      <th>CustomerKey</th>\n",
       "      <th>Full Name</th>\n",
       "      <th>BirthDate</th>\n",
       "      <th>MaritalStatus</th>\n",
       "      <th>Gender</th>\n",
       "      <th>EmailAddress</th>\n",
       "      <th>AnnualIncome</th>\n",
       "      <th>TotalChildren</th>\n",
       "      <th>EducationLevel</th>\n",
       "      <th>Occupation</th>\n",
       "      <th>HomeOwner</th>\n",
       "    </tr>\n",
       "  </thead>\n",
       "  <tbody>\n",
       "    <tr>\n",
       "      <th>0</th>\n",
       "      <td>11000</td>\n",
       "      <td>MR. JON YANG</td>\n",
       "      <td>4/8/1966</td>\n",
       "      <td>M</td>\n",
       "      <td>M</td>\n",
       "      <td>jon24@learnsector.com</td>\n",
       "      <td>$90,000</td>\n",
       "      <td>2</td>\n",
       "      <td>Bachelors</td>\n",
       "      <td>Professional</td>\n",
       "      <td>Y</td>\n",
       "    </tr>\n",
       "    <tr>\n",
       "      <th>1</th>\n",
       "      <td>11001</td>\n",
       "      <td>MR. EUGENE HUANG</td>\n",
       "      <td>14/05/1965</td>\n",
       "      <td>S</td>\n",
       "      <td>M</td>\n",
       "      <td>eugene10@learnsector.com</td>\n",
       "      <td>$60,000</td>\n",
       "      <td>3</td>\n",
       "      <td>Bachelors</td>\n",
       "      <td>Professional</td>\n",
       "      <td>N</td>\n",
       "    </tr>\n",
       "    <tr>\n",
       "      <th>2</th>\n",
       "      <td>11002</td>\n",
       "      <td>MR. RUBEN TORRES</td>\n",
       "      <td>8/12/1965</td>\n",
       "      <td>M</td>\n",
       "      <td>M</td>\n",
       "      <td>ruben35@learnsector.com</td>\n",
       "      <td>$60,000</td>\n",
       "      <td>3</td>\n",
       "      <td>Bachelors</td>\n",
       "      <td>Professional</td>\n",
       "      <td>Y</td>\n",
       "    </tr>\n",
       "    <tr>\n",
       "      <th>3</th>\n",
       "      <td>11003</td>\n",
       "      <td>MS. CHRISTY ZHU</td>\n",
       "      <td>15/02/1968</td>\n",
       "      <td>S</td>\n",
       "      <td>F</td>\n",
       "      <td>christy12@learnsector.com</td>\n",
       "      <td>$70,000</td>\n",
       "      <td>0</td>\n",
       "      <td>Bachelors</td>\n",
       "      <td>Professional</td>\n",
       "      <td>N</td>\n",
       "    </tr>\n",
       "    <tr>\n",
       "      <th>4</th>\n",
       "      <td>11004</td>\n",
       "      <td>MRS. ELIZABETH JOHNSON</td>\n",
       "      <td>8/8/1968</td>\n",
       "      <td>S</td>\n",
       "      <td>F</td>\n",
       "      <td>elizabeth5@learnsector.com</td>\n",
       "      <td>$80,000</td>\n",
       "      <td>5</td>\n",
       "      <td>Bachelors</td>\n",
       "      <td>Professional</td>\n",
       "      <td>Y</td>\n",
       "    </tr>\n",
       "    <tr>\n",
       "      <th>...</th>\n",
       "      <td>...</td>\n",
       "      <td>...</td>\n",
       "      <td>...</td>\n",
       "      <td>...</td>\n",
       "      <td>...</td>\n",
       "      <td>...</td>\n",
       "      <td>...</td>\n",
       "      <td>...</td>\n",
       "      <td>...</td>\n",
       "      <td>...</td>\n",
       "      <td>...</td>\n",
       "    </tr>\n",
       "    <tr>\n",
       "      <th>18143</th>\n",
       "      <td>29479</td>\n",
       "      <td>MR. TOMMY TANG</td>\n",
       "      <td>7/4/1958</td>\n",
       "      <td>M</td>\n",
       "      <td>M</td>\n",
       "      <td>tommy2@learnsector.com</td>\n",
       "      <td>$30,000</td>\n",
       "      <td>1</td>\n",
       "      <td>Graduate Degree</td>\n",
       "      <td>Clerical</td>\n",
       "      <td>Y</td>\n",
       "    </tr>\n",
       "    <tr>\n",
       "      <th>18144</th>\n",
       "      <td>29480</td>\n",
       "      <td>MRS. NINA RAJI</td>\n",
       "      <td>11/10/1960</td>\n",
       "      <td>S</td>\n",
       "      <td>F</td>\n",
       "      <td>nina21@learnsector.com</td>\n",
       "      <td>$30,000</td>\n",
       "      <td>3</td>\n",
       "      <td>Graduate Degree</td>\n",
       "      <td>Clerical</td>\n",
       "      <td>Y</td>\n",
       "    </tr>\n",
       "    <tr>\n",
       "      <th>18145</th>\n",
       "      <td>29481</td>\n",
       "      <td>MR. IVAN SURI</td>\n",
       "      <td>1/5/1960</td>\n",
       "      <td>S</td>\n",
       "      <td>M</td>\n",
       "      <td>ivan0@learnsector.com</td>\n",
       "      <td>$30,000</td>\n",
       "      <td>3</td>\n",
       "      <td>Graduate Degree</td>\n",
       "      <td>Clerical</td>\n",
       "      <td>N</td>\n",
       "    </tr>\n",
       "    <tr>\n",
       "      <th>18146</th>\n",
       "      <td>29482</td>\n",
       "      <td>MR. CLAYTON ZHANG</td>\n",
       "      <td>3/5/1959</td>\n",
       "      <td>M</td>\n",
       "      <td>M</td>\n",
       "      <td>clayton0@learnsector.com</td>\n",
       "      <td>$30,000</td>\n",
       "      <td>3</td>\n",
       "      <td>Bachelors</td>\n",
       "      <td>Clerical</td>\n",
       "      <td>Y</td>\n",
       "    </tr>\n",
       "    <tr>\n",
       "      <th>18147</th>\n",
       "      <td>29483</td>\n",
       "      <td>MR. JÉSUS NAVARRO</td>\n",
       "      <td>12/8/1959</td>\n",
       "      <td>M</td>\n",
       "      <td>M</td>\n",
       "      <td>jésus9@learnsector.com</td>\n",
       "      <td>$30,000</td>\n",
       "      <td>0</td>\n",
       "      <td>Bachelors</td>\n",
       "      <td>Clerical</td>\n",
       "      <td>Y</td>\n",
       "    </tr>\n",
       "  </tbody>\n",
       "</table>\n",
       "<p>18148 rows × 11 columns</p>\n",
       "</div>"
      ],
      "text/plain": [
       "       CustomerKey               Full Name   BirthDate MaritalStatus Gender  \\\n",
       "0            11000            MR. JON YANG    4/8/1966             M      M   \n",
       "1            11001        MR. EUGENE HUANG  14/05/1965             S      M   \n",
       "2            11002        MR. RUBEN TORRES   8/12/1965             M      M   \n",
       "3            11003         MS. CHRISTY ZHU  15/02/1968             S      F   \n",
       "4            11004  MRS. ELIZABETH JOHNSON    8/8/1968             S      F   \n",
       "...            ...                     ...         ...           ...    ...   \n",
       "18143        29479          MR. TOMMY TANG    7/4/1958             M      M   \n",
       "18144        29480          MRS. NINA RAJI  11/10/1960             S      F   \n",
       "18145        29481           MR. IVAN SURI    1/5/1960             S      M   \n",
       "18146        29482       MR. CLAYTON ZHANG    3/5/1959             M      M   \n",
       "18147        29483       MR. JÉSUS NAVARRO   12/8/1959             M      M   \n",
       "\n",
       "                     EmailAddress AnnualIncome  TotalChildren  \\\n",
       "0           jon24@learnsector.com     $90,000               2   \n",
       "1        eugene10@learnsector.com     $60,000               3   \n",
       "2         ruben35@learnsector.com     $60,000               3   \n",
       "3       christy12@learnsector.com     $70,000               0   \n",
       "4      elizabeth5@learnsector.com     $80,000               5   \n",
       "...                           ...          ...            ...   \n",
       "18143      tommy2@learnsector.com     $30,000               1   \n",
       "18144      nina21@learnsector.com     $30,000               3   \n",
       "18145       ivan0@learnsector.com     $30,000               3   \n",
       "18146    clayton0@learnsector.com     $30,000               3   \n",
       "18147      jésus9@learnsector.com     $30,000               0   \n",
       "\n",
       "        EducationLevel    Occupation HomeOwner  \n",
       "0            Bachelors  Professional         Y  \n",
       "1            Bachelors  Professional         N  \n",
       "2            Bachelors  Professional         Y  \n",
       "3            Bachelors  Professional         N  \n",
       "4            Bachelors  Professional         Y  \n",
       "...                ...           ...       ...  \n",
       "18143  Graduate Degree      Clerical         Y  \n",
       "18144  Graduate Degree      Clerical         Y  \n",
       "18145  Graduate Degree      Clerical         N  \n",
       "18146        Bachelors      Clerical         Y  \n",
       "18147        Bachelors      Clerical         Y  \n",
       "\n",
       "[18148 rows x 11 columns]"
      ]
     },
     "execution_count": 42,
     "metadata": {},
     "output_type": "execute_result"
    }
   ],
   "source": [
    "new"
   ]
  },
  {
   "cell_type": "code",
   "execution_count": 43,
   "id": "f7cd4871-776b-4b15-a0c1-f57f3f72713a",
   "metadata": {},
   "outputs": [],
   "source": [
    "new = d"
   ]
  },
  {
   "cell_type": "code",
   "execution_count": 44,
   "id": "d6cb3b9e-6ac1-47aa-85b0-4ee7de8ab7c9",
   "metadata": {},
   "outputs": [
    {
     "data": {
      "text/plain": [
       "CustomerKey        int64\n",
       "BirthDate         object\n",
       "MaritalStatus     object\n",
       "Gender            object\n",
       "EmailAddress      object\n",
       "AnnualIncome      object\n",
       "TotalChildren      int64\n",
       "EducationLevel    object\n",
       "Occupation        object\n",
       "HomeOwner         object\n",
       "Full Name         object\n",
       "dtype: object"
      ]
     },
     "execution_count": 44,
     "metadata": {},
     "output_type": "execute_result"
    }
   ],
   "source": [
    "d.dtypes"
   ]
  },
  {
   "cell_type": "code",
   "execution_count": 49,
   "id": "bbdffb36-b989-4e82-9394-f110947b6b96",
   "metadata": {},
   "outputs": [],
   "source": [
    "d.AnnualIncome = d.AnnualIncome.str.strip().str.replace(\"$\", \"\").str.replace(\",\",\"\").astype('int')"
   ]
  },
  {
   "cell_type": "code",
   "execution_count": 50,
   "id": "9b7dea3f-f1fd-4852-9ac5-2f52baad2ce3",
   "metadata": {},
   "outputs": [
    {
     "data": {
      "text/plain": [
       "CustomerKey        int64\n",
       "BirthDate         object\n",
       "MaritalStatus     object\n",
       "Gender            object\n",
       "EmailAddress      object\n",
       "AnnualIncome       int32\n",
       "TotalChildren      int64\n",
       "EducationLevel    object\n",
       "Occupation        object\n",
       "HomeOwner         object\n",
       "Full Name         object\n",
       "dtype: object"
      ]
     },
     "execution_count": 50,
     "metadata": {},
     "output_type": "execute_result"
    }
   ],
   "source": [
    "d.dtypes"
   ]
  },
  {
   "cell_type": "code",
   "execution_count": 52,
   "id": "0e470e7c-79a1-4c55-b93e-7a491576e68b",
   "metadata": {},
   "outputs": [],
   "source": [
    "n = {\"M\" : \"Married\",\n",
    "      \"S\" : \"Single\"}"
   ]
  },
  {
   "cell_type": "code",
   "execution_count": 55,
   "id": "77d3faa6-4cc5-4d76-8d9e-5609aad6b2d1",
   "metadata": {},
   "outputs": [],
   "source": [
    "d.MaritalStatus = d.MaritalStatus.map(n)"
   ]
  },
  {
   "cell_type": "code",
   "execution_count": 56,
   "id": "9e28b385-4e8a-4f10-a5b0-2cfdf1466ea5",
   "metadata": {},
   "outputs": [
    {
     "data": {
      "text/html": [
       "<div>\n",
       "<style scoped>\n",
       "    .dataframe tbody tr th:only-of-type {\n",
       "        vertical-align: middle;\n",
       "    }\n",
       "\n",
       "    .dataframe tbody tr th {\n",
       "        vertical-align: top;\n",
       "    }\n",
       "\n",
       "    .dataframe thead th {\n",
       "        text-align: right;\n",
       "    }\n",
       "</style>\n",
       "<table border=\"1\" class=\"dataframe\">\n",
       "  <thead>\n",
       "    <tr style=\"text-align: right;\">\n",
       "      <th></th>\n",
       "      <th>CustomerKey</th>\n",
       "      <th>BirthDate</th>\n",
       "      <th>MaritalStatus</th>\n",
       "      <th>Gender</th>\n",
       "      <th>EmailAddress</th>\n",
       "      <th>AnnualIncome</th>\n",
       "      <th>TotalChildren</th>\n",
       "      <th>EducationLevel</th>\n",
       "      <th>Occupation</th>\n",
       "      <th>HomeOwner</th>\n",
       "      <th>Full Name</th>\n",
       "    </tr>\n",
       "  </thead>\n",
       "  <tbody>\n",
       "    <tr>\n",
       "      <th>0</th>\n",
       "      <td>11000</td>\n",
       "      <td>4/8/1966</td>\n",
       "      <td>Married</td>\n",
       "      <td>M</td>\n",
       "      <td>jon24@learnsector.com</td>\n",
       "      <td>90000</td>\n",
       "      <td>2</td>\n",
       "      <td>Bachelors</td>\n",
       "      <td>Professional</td>\n",
       "      <td>Y</td>\n",
       "      <td>MR. JON YANG</td>\n",
       "    </tr>\n",
       "    <tr>\n",
       "      <th>1</th>\n",
       "      <td>11001</td>\n",
       "      <td>14/05/1965</td>\n",
       "      <td>Single</td>\n",
       "      <td>M</td>\n",
       "      <td>eugene10@learnsector.com</td>\n",
       "      <td>60000</td>\n",
       "      <td>3</td>\n",
       "      <td>Bachelors</td>\n",
       "      <td>Professional</td>\n",
       "      <td>N</td>\n",
       "      <td>MR. EUGENE HUANG</td>\n",
       "    </tr>\n",
       "    <tr>\n",
       "      <th>2</th>\n",
       "      <td>11002</td>\n",
       "      <td>8/12/1965</td>\n",
       "      <td>Married</td>\n",
       "      <td>M</td>\n",
       "      <td>ruben35@learnsector.com</td>\n",
       "      <td>60000</td>\n",
       "      <td>3</td>\n",
       "      <td>Bachelors</td>\n",
       "      <td>Professional</td>\n",
       "      <td>Y</td>\n",
       "      <td>MR. RUBEN TORRES</td>\n",
       "    </tr>\n",
       "    <tr>\n",
       "      <th>3</th>\n",
       "      <td>11003</td>\n",
       "      <td>15/02/1968</td>\n",
       "      <td>Single</td>\n",
       "      <td>F</td>\n",
       "      <td>christy12@learnsector.com</td>\n",
       "      <td>70000</td>\n",
       "      <td>0</td>\n",
       "      <td>Bachelors</td>\n",
       "      <td>Professional</td>\n",
       "      <td>N</td>\n",
       "      <td>MS. CHRISTY ZHU</td>\n",
       "    </tr>\n",
       "    <tr>\n",
       "      <th>4</th>\n",
       "      <td>11004</td>\n",
       "      <td>8/8/1968</td>\n",
       "      <td>Single</td>\n",
       "      <td>F</td>\n",
       "      <td>elizabeth5@learnsector.com</td>\n",
       "      <td>80000</td>\n",
       "      <td>5</td>\n",
       "      <td>Bachelors</td>\n",
       "      <td>Professional</td>\n",
       "      <td>Y</td>\n",
       "      <td>MRS. ELIZABETH JOHNSON</td>\n",
       "    </tr>\n",
       "  </tbody>\n",
       "</table>\n",
       "</div>"
      ],
      "text/plain": [
       "   CustomerKey   BirthDate MaritalStatus Gender                EmailAddress  \\\n",
       "0        11000    4/8/1966       Married      M       jon24@learnsector.com   \n",
       "1        11001  14/05/1965        Single      M    eugene10@learnsector.com   \n",
       "2        11002   8/12/1965       Married      M     ruben35@learnsector.com   \n",
       "3        11003  15/02/1968        Single      F   christy12@learnsector.com   \n",
       "4        11004    8/8/1968        Single      F  elizabeth5@learnsector.com   \n",
       "\n",
       "   AnnualIncome  TotalChildren EducationLevel    Occupation HomeOwner  \\\n",
       "0         90000              2      Bachelors  Professional         Y   \n",
       "1         60000              3      Bachelors  Professional         N   \n",
       "2         60000              3      Bachelors  Professional         Y   \n",
       "3         70000              0      Bachelors  Professional         N   \n",
       "4         80000              5      Bachelors  Professional         Y   \n",
       "\n",
       "                Full Name  \n",
       "0            MR. JON YANG  \n",
       "1        MR. EUGENE HUANG  \n",
       "2        MR. RUBEN TORRES  \n",
       "3         MS. CHRISTY ZHU  \n",
       "4  MRS. ELIZABETH JOHNSON  "
      ]
     },
     "execution_count": 56,
     "metadata": {},
     "output_type": "execute_result"
    }
   ],
   "source": [
    "d.head()"
   ]
  },
  {
   "cell_type": "code",
   "execution_count": 59,
   "id": "a7d6794c-b178-47fe-b0f1-94f30d49bbd6",
   "metadata": {},
   "outputs": [],
   "source": [
    "d.Gender = d.Gender.replace({\"M\":\"Male\", \"F\" : \"Female\"})"
   ]
  },
  {
   "cell_type": "code",
   "execution_count": 60,
   "id": "7ad4b5f4-bfc2-4238-b9e3-fb3341994491",
   "metadata": {},
   "outputs": [
    {
     "data": {
      "text/html": [
       "<div>\n",
       "<style scoped>\n",
       "    .dataframe tbody tr th:only-of-type {\n",
       "        vertical-align: middle;\n",
       "    }\n",
       "\n",
       "    .dataframe tbody tr th {\n",
       "        vertical-align: top;\n",
       "    }\n",
       "\n",
       "    .dataframe thead th {\n",
       "        text-align: right;\n",
       "    }\n",
       "</style>\n",
       "<table border=\"1\" class=\"dataframe\">\n",
       "  <thead>\n",
       "    <tr style=\"text-align: right;\">\n",
       "      <th></th>\n",
       "      <th>CustomerKey</th>\n",
       "      <th>BirthDate</th>\n",
       "      <th>MaritalStatus</th>\n",
       "      <th>Gender</th>\n",
       "      <th>EmailAddress</th>\n",
       "      <th>AnnualIncome</th>\n",
       "      <th>TotalChildren</th>\n",
       "      <th>EducationLevel</th>\n",
       "      <th>Occupation</th>\n",
       "      <th>HomeOwner</th>\n",
       "      <th>Full Name</th>\n",
       "    </tr>\n",
       "  </thead>\n",
       "  <tbody>\n",
       "    <tr>\n",
       "      <th>0</th>\n",
       "      <td>11000</td>\n",
       "      <td>4/8/1966</td>\n",
       "      <td>Married</td>\n",
       "      <td>Male</td>\n",
       "      <td>jon24@learnsector.com</td>\n",
       "      <td>90000</td>\n",
       "      <td>2</td>\n",
       "      <td>Bachelors</td>\n",
       "      <td>Professional</td>\n",
       "      <td>Y</td>\n",
       "      <td>MR. JON YANG</td>\n",
       "    </tr>\n",
       "    <tr>\n",
       "      <th>1</th>\n",
       "      <td>11001</td>\n",
       "      <td>14/05/1965</td>\n",
       "      <td>Single</td>\n",
       "      <td>Male</td>\n",
       "      <td>eugene10@learnsector.com</td>\n",
       "      <td>60000</td>\n",
       "      <td>3</td>\n",
       "      <td>Bachelors</td>\n",
       "      <td>Professional</td>\n",
       "      <td>N</td>\n",
       "      <td>MR. EUGENE HUANG</td>\n",
       "    </tr>\n",
       "    <tr>\n",
       "      <th>2</th>\n",
       "      <td>11002</td>\n",
       "      <td>8/12/1965</td>\n",
       "      <td>Married</td>\n",
       "      <td>Male</td>\n",
       "      <td>ruben35@learnsector.com</td>\n",
       "      <td>60000</td>\n",
       "      <td>3</td>\n",
       "      <td>Bachelors</td>\n",
       "      <td>Professional</td>\n",
       "      <td>Y</td>\n",
       "      <td>MR. RUBEN TORRES</td>\n",
       "    </tr>\n",
       "    <tr>\n",
       "      <th>3</th>\n",
       "      <td>11003</td>\n",
       "      <td>15/02/1968</td>\n",
       "      <td>Single</td>\n",
       "      <td>Female</td>\n",
       "      <td>christy12@learnsector.com</td>\n",
       "      <td>70000</td>\n",
       "      <td>0</td>\n",
       "      <td>Bachelors</td>\n",
       "      <td>Professional</td>\n",
       "      <td>N</td>\n",
       "      <td>MS. CHRISTY ZHU</td>\n",
       "    </tr>\n",
       "    <tr>\n",
       "      <th>4</th>\n",
       "      <td>11004</td>\n",
       "      <td>8/8/1968</td>\n",
       "      <td>Single</td>\n",
       "      <td>Female</td>\n",
       "      <td>elizabeth5@learnsector.com</td>\n",
       "      <td>80000</td>\n",
       "      <td>5</td>\n",
       "      <td>Bachelors</td>\n",
       "      <td>Professional</td>\n",
       "      <td>Y</td>\n",
       "      <td>MRS. ELIZABETH JOHNSON</td>\n",
       "    </tr>\n",
       "  </tbody>\n",
       "</table>\n",
       "</div>"
      ],
      "text/plain": [
       "   CustomerKey   BirthDate MaritalStatus  Gender                EmailAddress  \\\n",
       "0        11000    4/8/1966       Married    Male       jon24@learnsector.com   \n",
       "1        11001  14/05/1965        Single    Male    eugene10@learnsector.com   \n",
       "2        11002   8/12/1965       Married    Male     ruben35@learnsector.com   \n",
       "3        11003  15/02/1968        Single  Female   christy12@learnsector.com   \n",
       "4        11004    8/8/1968        Single  Female  elizabeth5@learnsector.com   \n",
       "\n",
       "   AnnualIncome  TotalChildren EducationLevel    Occupation HomeOwner  \\\n",
       "0         90000              2      Bachelors  Professional         Y   \n",
       "1         60000              3      Bachelors  Professional         N   \n",
       "2         60000              3      Bachelors  Professional         Y   \n",
       "3         70000              0      Bachelors  Professional         N   \n",
       "4         80000              5      Bachelors  Professional         Y   \n",
       "\n",
       "                Full Name  \n",
       "0            MR. JON YANG  \n",
       "1        MR. EUGENE HUANG  \n",
       "2        MR. RUBEN TORRES  \n",
       "3         MS. CHRISTY ZHU  \n",
       "4  MRS. ELIZABETH JOHNSON  "
      ]
     },
     "execution_count": 60,
     "metadata": {},
     "output_type": "execute_result"
    }
   ],
   "source": [
    "d.head()"
   ]
  },
  {
   "cell_type": "code",
   "execution_count": 65,
   "id": "bcf637be-e0c8-4d89-b2c8-96aa26a7f3f5",
   "metadata": {},
   "outputs": [
    {
     "data": {
      "text/html": [
       "<div>\n",
       "<style scoped>\n",
       "    .dataframe tbody tr th:only-of-type {\n",
       "        vertical-align: middle;\n",
       "    }\n",
       "\n",
       "    .dataframe tbody tr th {\n",
       "        vertical-align: top;\n",
       "    }\n",
       "\n",
       "    .dataframe thead th {\n",
       "        text-align: right;\n",
       "    }\n",
       "</style>\n",
       "<table border=\"1\" class=\"dataframe\">\n",
       "  <thead>\n",
       "    <tr style=\"text-align: right;\">\n",
       "      <th></th>\n",
       "      <th>Gender</th>\n",
       "      <th>AnnualIncome</th>\n",
       "    </tr>\n",
       "  </thead>\n",
       "  <tbody>\n",
       "    <tr>\n",
       "      <th>0</th>\n",
       "      <td>Female</td>\n",
       "      <td>57344.804318</td>\n",
       "    </tr>\n",
       "    <tr>\n",
       "      <th>1</th>\n",
       "      <td>Male</td>\n",
       "      <td>57253.999562</td>\n",
       "    </tr>\n",
       "  </tbody>\n",
       "</table>\n",
       "</div>"
      ],
      "text/plain": [
       "   Gender  AnnualIncome\n",
       "0  Female  57344.804318\n",
       "1    Male  57253.999562"
      ]
     },
     "execution_count": 65,
     "metadata": {},
     "output_type": "execute_result"
    }
   ],
   "source": [
    "d.groupby(\"Gender\")[\"AnnualIncome\"].mean().reset_index()"
   ]
  },
  {
   "cell_type": "code",
   "execution_count": 66,
   "id": "3c11e8b3-0cec-4762-b7bb-162e344cf2be",
   "metadata": {},
   "outputs": [
    {
     "data": {
      "text/plain": [
       "Gender\n",
       "Female    57344.804318\n",
       "Male      57253.999562\n",
       "Name: AnnualIncome, dtype: float64"
      ]
     },
     "execution_count": 66,
     "metadata": {},
     "output_type": "execute_result"
    }
   ],
   "source": [
    "d.groupby(\"Gender\")[\"AnnualIncome\"].mean()"
   ]
  },
  {
   "cell_type": "code",
   "execution_count": 72,
   "id": "ec8c9fd1-931f-42ba-8006-27a1cc2776e3",
   "metadata": {},
   "outputs": [
    {
     "data": {
      "text/plain": [
       "Gender\n",
       "Male      50.6\n",
       "Female    49.4\n",
       "Name: proportion, dtype: float64"
      ]
     },
     "execution_count": 72,
     "metadata": {},
     "output_type": "execute_result"
    }
   ],
   "source": [
    "round(d.Gender.value_counts( normalize= True)*100, 1)"
   ]
  },
  {
   "cell_type": "code",
   "execution_count": 78,
   "id": "0151b786-09ea-42d0-90e3-a252665088dc",
   "metadata": {},
   "outputs": [
    {
     "ename": "TypeError",
     "evalue": "DataFrame.rename() got an unexpected keyword argument 'axix'",
     "output_type": "error",
     "traceback": [
      "\u001b[1;31m---------------------------------------------------------------------------\u001b[0m",
      "\u001b[1;31mTypeError\u001b[0m                                 Traceback (most recent call last)",
      "Cell \u001b[1;32mIn[78], line 1\u001b[0m\n\u001b[1;32m----> 1\u001b[0m d\u001b[38;5;241m.\u001b[39mgroupby([\u001b[38;5;124m\"\u001b[39m\u001b[38;5;124mGender\u001b[39m\u001b[38;5;124m\"\u001b[39m, \u001b[38;5;124m\"\u001b[39m\u001b[38;5;124mMaritalStatus\u001b[39m\u001b[38;5;124m\"\u001b[39m])\u001b[38;5;241m.\u001b[39msize()\u001b[38;5;241m.\u001b[39mreset_index()\u001b[38;5;241m.\u001b[39mrename({\u001b[38;5;241m0\u001b[39m:\u001b[38;5;124m\"\u001b[39m\u001b[38;5;124mCount\u001b[39m\u001b[38;5;124m\"\u001b[39m}, axix\u001b[38;5;241m=\u001b[39m\u001b[38;5;241m1\u001b[39m)\n",
      "\u001b[1;31mTypeError\u001b[0m: DataFrame.rename() got an unexpected keyword argument 'axix'"
     ]
    }
   ],
   "source": [
    "d.groupby([\"Gender\", \"MaritalStatus\"]).size().reset_index().rename({0:\"Count\"}, axix=1)"
   ]
  },
  {
   "cell_type": "code",
   "execution_count": 79,
   "id": "39de730a-6d98-4adf-93d6-cd4777a7532f",
   "metadata": {},
   "outputs": [
    {
     "data": {
      "text/html": [
       "<div>\n",
       "<style scoped>\n",
       "    .dataframe tbody tr th:only-of-type {\n",
       "        vertical-align: middle;\n",
       "    }\n",
       "\n",
       "    .dataframe tbody tr th {\n",
       "        vertical-align: top;\n",
       "    }\n",
       "\n",
       "    .dataframe thead th {\n",
       "        text-align: right;\n",
       "    }\n",
       "</style>\n",
       "<table border=\"1\" class=\"dataframe\">\n",
       "  <thead>\n",
       "    <tr style=\"text-align: right;\">\n",
       "      <th></th>\n",
       "      <th>CustomerKey</th>\n",
       "      <th>BirthDate</th>\n",
       "      <th>MaritalStatus</th>\n",
       "      <th>Gender</th>\n",
       "      <th>EmailAddress</th>\n",
       "      <th>AnnualIncome</th>\n",
       "      <th>TotalChildren</th>\n",
       "      <th>EducationLevel</th>\n",
       "      <th>Occupation</th>\n",
       "      <th>HomeOwner</th>\n",
       "      <th>Full Name</th>\n",
       "    </tr>\n",
       "  </thead>\n",
       "  <tbody>\n",
       "    <tr>\n",
       "      <th>0</th>\n",
       "      <td>11000</td>\n",
       "      <td>4/8/1966</td>\n",
       "      <td>Married</td>\n",
       "      <td>Male</td>\n",
       "      <td>jon24@learnsector.com</td>\n",
       "      <td>90000</td>\n",
       "      <td>2</td>\n",
       "      <td>Bachelors</td>\n",
       "      <td>Professional</td>\n",
       "      <td>Y</td>\n",
       "      <td>MR. JON YANG</td>\n",
       "    </tr>\n",
       "    <tr>\n",
       "      <th>1</th>\n",
       "      <td>11001</td>\n",
       "      <td>14/05/1965</td>\n",
       "      <td>Single</td>\n",
       "      <td>Male</td>\n",
       "      <td>eugene10@learnsector.com</td>\n",
       "      <td>60000</td>\n",
       "      <td>3</td>\n",
       "      <td>Bachelors</td>\n",
       "      <td>Professional</td>\n",
       "      <td>N</td>\n",
       "      <td>MR. EUGENE HUANG</td>\n",
       "    </tr>\n",
       "    <tr>\n",
       "      <th>2</th>\n",
       "      <td>11002</td>\n",
       "      <td>8/12/1965</td>\n",
       "      <td>Married</td>\n",
       "      <td>Male</td>\n",
       "      <td>ruben35@learnsector.com</td>\n",
       "      <td>60000</td>\n",
       "      <td>3</td>\n",
       "      <td>Bachelors</td>\n",
       "      <td>Professional</td>\n",
       "      <td>Y</td>\n",
       "      <td>MR. RUBEN TORRES</td>\n",
       "    </tr>\n",
       "    <tr>\n",
       "      <th>3</th>\n",
       "      <td>11003</td>\n",
       "      <td>15/02/1968</td>\n",
       "      <td>Single</td>\n",
       "      <td>Female</td>\n",
       "      <td>christy12@learnsector.com</td>\n",
       "      <td>70000</td>\n",
       "      <td>0</td>\n",
       "      <td>Bachelors</td>\n",
       "      <td>Professional</td>\n",
       "      <td>N</td>\n",
       "      <td>MS. CHRISTY ZHU</td>\n",
       "    </tr>\n",
       "    <tr>\n",
       "      <th>4</th>\n",
       "      <td>11004</td>\n",
       "      <td>8/8/1968</td>\n",
       "      <td>Single</td>\n",
       "      <td>Female</td>\n",
       "      <td>elizabeth5@learnsector.com</td>\n",
       "      <td>80000</td>\n",
       "      <td>5</td>\n",
       "      <td>Bachelors</td>\n",
       "      <td>Professional</td>\n",
       "      <td>Y</td>\n",
       "      <td>MRS. ELIZABETH JOHNSON</td>\n",
       "    </tr>\n",
       "    <tr>\n",
       "      <th>...</th>\n",
       "      <td>...</td>\n",
       "      <td>...</td>\n",
       "      <td>...</td>\n",
       "      <td>...</td>\n",
       "      <td>...</td>\n",
       "      <td>...</td>\n",
       "      <td>...</td>\n",
       "      <td>...</td>\n",
       "      <td>...</td>\n",
       "      <td>...</td>\n",
       "      <td>...</td>\n",
       "    </tr>\n",
       "    <tr>\n",
       "      <th>18143</th>\n",
       "      <td>29479</td>\n",
       "      <td>7/4/1958</td>\n",
       "      <td>Married</td>\n",
       "      <td>Male</td>\n",
       "      <td>tommy2@learnsector.com</td>\n",
       "      <td>30000</td>\n",
       "      <td>1</td>\n",
       "      <td>Graduate Degree</td>\n",
       "      <td>Clerical</td>\n",
       "      <td>Y</td>\n",
       "      <td>MR. TOMMY TANG</td>\n",
       "    </tr>\n",
       "    <tr>\n",
       "      <th>18144</th>\n",
       "      <td>29480</td>\n",
       "      <td>11/10/1960</td>\n",
       "      <td>Single</td>\n",
       "      <td>Female</td>\n",
       "      <td>nina21@learnsector.com</td>\n",
       "      <td>30000</td>\n",
       "      <td>3</td>\n",
       "      <td>Graduate Degree</td>\n",
       "      <td>Clerical</td>\n",
       "      <td>Y</td>\n",
       "      <td>MRS. NINA RAJI</td>\n",
       "    </tr>\n",
       "    <tr>\n",
       "      <th>18145</th>\n",
       "      <td>29481</td>\n",
       "      <td>1/5/1960</td>\n",
       "      <td>Single</td>\n",
       "      <td>Male</td>\n",
       "      <td>ivan0@learnsector.com</td>\n",
       "      <td>30000</td>\n",
       "      <td>3</td>\n",
       "      <td>Graduate Degree</td>\n",
       "      <td>Clerical</td>\n",
       "      <td>N</td>\n",
       "      <td>MR. IVAN SURI</td>\n",
       "    </tr>\n",
       "    <tr>\n",
       "      <th>18146</th>\n",
       "      <td>29482</td>\n",
       "      <td>3/5/1959</td>\n",
       "      <td>Married</td>\n",
       "      <td>Male</td>\n",
       "      <td>clayton0@learnsector.com</td>\n",
       "      <td>30000</td>\n",
       "      <td>3</td>\n",
       "      <td>Bachelors</td>\n",
       "      <td>Clerical</td>\n",
       "      <td>Y</td>\n",
       "      <td>MR. CLAYTON ZHANG</td>\n",
       "    </tr>\n",
       "    <tr>\n",
       "      <th>18147</th>\n",
       "      <td>29483</td>\n",
       "      <td>12/8/1959</td>\n",
       "      <td>Married</td>\n",
       "      <td>Male</td>\n",
       "      <td>jésus9@learnsector.com</td>\n",
       "      <td>30000</td>\n",
       "      <td>0</td>\n",
       "      <td>Bachelors</td>\n",
       "      <td>Clerical</td>\n",
       "      <td>Y</td>\n",
       "      <td>MR. JÉSUS NAVARRO</td>\n",
       "    </tr>\n",
       "  </tbody>\n",
       "</table>\n",
       "<p>18148 rows × 11 columns</p>\n",
       "</div>"
      ],
      "text/plain": [
       "       CustomerKey   BirthDate MaritalStatus  Gender  \\\n",
       "0            11000    4/8/1966       Married    Male   \n",
       "1            11001  14/05/1965        Single    Male   \n",
       "2            11002   8/12/1965       Married    Male   \n",
       "3            11003  15/02/1968        Single  Female   \n",
       "4            11004    8/8/1968        Single  Female   \n",
       "...            ...         ...           ...     ...   \n",
       "18143        29479    7/4/1958       Married    Male   \n",
       "18144        29480  11/10/1960        Single  Female   \n",
       "18145        29481    1/5/1960        Single    Male   \n",
       "18146        29482    3/5/1959       Married    Male   \n",
       "18147        29483   12/8/1959       Married    Male   \n",
       "\n",
       "                     EmailAddress  AnnualIncome  TotalChildren  \\\n",
       "0           jon24@learnsector.com         90000              2   \n",
       "1        eugene10@learnsector.com         60000              3   \n",
       "2         ruben35@learnsector.com         60000              3   \n",
       "3       christy12@learnsector.com         70000              0   \n",
       "4      elizabeth5@learnsector.com         80000              5   \n",
       "...                           ...           ...            ...   \n",
       "18143      tommy2@learnsector.com         30000              1   \n",
       "18144      nina21@learnsector.com         30000              3   \n",
       "18145       ivan0@learnsector.com         30000              3   \n",
       "18146    clayton0@learnsector.com         30000              3   \n",
       "18147      jésus9@learnsector.com         30000              0   \n",
       "\n",
       "        EducationLevel    Occupation HomeOwner               Full Name  \n",
       "0            Bachelors  Professional         Y            MR. JON YANG  \n",
       "1            Bachelors  Professional         N        MR. EUGENE HUANG  \n",
       "2            Bachelors  Professional         Y        MR. RUBEN TORRES  \n",
       "3            Bachelors  Professional         N         MS. CHRISTY ZHU  \n",
       "4            Bachelors  Professional         Y  MRS. ELIZABETH JOHNSON  \n",
       "...                ...           ...       ...                     ...  \n",
       "18143  Graduate Degree      Clerical         Y          MR. TOMMY TANG  \n",
       "18144  Graduate Degree      Clerical         Y          MRS. NINA RAJI  \n",
       "18145  Graduate Degree      Clerical         N           MR. IVAN SURI  \n",
       "18146        Bachelors      Clerical         Y       MR. CLAYTON ZHANG  \n",
       "18147        Bachelors      Clerical         Y       MR. JÉSUS NAVARRO  \n",
       "\n",
       "[18148 rows x 11 columns]"
      ]
     },
     "execution_count": 79,
     "metadata": {},
     "output_type": "execute_result"
    }
   ],
   "source": [
    "d"
   ]
  }
 ],
 "metadata": {
  "kernelspec": {
   "display_name": "Python 3 (ipykernel)",
   "language": "python",
   "name": "python3"
  },
  "language_info": {
   "codemirror_mode": {
    "name": "ipython",
    "version": 3
   },
   "file_extension": ".py",
   "mimetype": "text/x-python",
   "name": "python",
   "nbconvert_exporter": "python",
   "pygments_lexer": "ipython3",
   "version": "3.11.7"
  }
 },
 "nbformat": 4,
 "nbformat_minor": 5
}
